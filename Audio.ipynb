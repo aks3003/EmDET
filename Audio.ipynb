{
 "cells": [
  {
   "cell_type": "markdown",
   "metadata": {},
   "source": [
    "# Pre Processing"
   ]
  },
  {
   "cell_type": "code",
   "execution_count": 64,
   "metadata": {},
   "outputs": [],
   "source": [
    "import numpy as np\n",
    "import pandas as pd\n",
    "import os\n",
    "import librosa\n",
    "import matplotlib.pyplot as plt\n",
    "import seaborn as sns\n",
    "from IPython.display import Audio, display\n",
    "import torchaudio\n",
    "from tqdm import tqdm\n",
    "from audiomentations import Compose, AddBackgroundNoise, AddGaussianSNR"
   ]
  },
  {
   "cell_type": "code",
   "execution_count": 9,
   "metadata": {},
   "outputs": [
    {
     "name": "stdout",
     "output_type": "stream",
     "text": [
      "Requirement already satisfied: pandas in c:\\users\\akshi\\anaconda3\\envs\\pytorch\\lib\\site-packages (2.2.1)\n",
      "Requirement already satisfied: numpy<2,>=1.23.2 in c:\\users\\akshi\\anaconda3\\envs\\pytorch\\lib\\site-packages (from pandas) (1.24.3)\n",
      "Requirement already satisfied: python-dateutil>=2.8.2 in c:\\users\\akshi\\anaconda3\\envs\\pytorch\\lib\\site-packages (from pandas) (2.9.0)\n",
      "Requirement already satisfied: pytz>=2020.1 in c:\\users\\akshi\\anaconda3\\envs\\pytorch\\lib\\site-packages (from pandas) (2024.1)\n",
      "Requirement already satisfied: tzdata>=2022.7 in c:\\users\\akshi\\anaconda3\\envs\\pytorch\\lib\\site-packages (from pandas) (2023.3)\n",
      "Requirement already satisfied: six>=1.5 in c:\\users\\akshi\\anaconda3\\envs\\pytorch\\lib\\site-packages (from python-dateutil>=2.8.2->pandas) (1.16.0)\n",
      "Note: you may need to restart the kernel to use updated packages.\n"
     ]
    }
   ],
   "source": [
    "%pip install p"
   ]
  },
  {
   "cell_type": "code",
   "execution_count": 11,
   "metadata": {},
   "outputs": [],
   "source": [
    "# Function to create a DataFrame\n",
    "def create_file_dataframe(file_paths, emotion_levels, emotions):\n",
    "    return pd.DataFrame({\n",
    "        'File Name': file_paths,\n",
    "        'Emotion Level': emotion_levels,\n",
    "        'Emotion': emotions\n",
    "    })\n"
   ]
  },
  {
   "cell_type": "code",
   "execution_count": 12,
   "metadata": {},
   "outputs": [],
   "source": [
    "def display_distributions(dataframe, dataframe_name):\n",
    "    sns.histplot(\n",
    "        data = dataframe, \n",
    "        x = \"Emotion Level\"\n",
    "    ).set(title = f\"{dataframe_name} Emotion Level Distribution\") #Emotion Level Distribution\n",
    "    plt.show()\n",
    "    sns.histplot(\n",
    "        data = dataframe, \n",
    "        x = \"Emotion\"\n",
    "    ).set(title = f\"{dataframe_name} Emotion Distribution\") #Emotion Distribution\n",
    "    plt.show()"
   ]
  },
  {
   "cell_type": "code",
   "execution_count": 13,
   "metadata": {},
   "outputs": [],
   "source": [
    "savee_base_path = \"ALL\""
   ]
  },
  {
   "cell_type": "code",
   "execution_count": 14,
   "metadata": {},
   "outputs": [],
   "source": [
    "savee_emotion_map = {\n",
    "    \"a\": \"Angry\",\n",
    "    \"d\": \"Disgusted\",\n",
    "    \"f\": \"Fearful\",\n",
    "    \"h\": \"Happy\",\n",
    "    \"n\": \"Neutral\",\n",
    "    \"sa\": \"Sad\",\n",
    "    \"su\": \"Surprised\"\n",
    "}"
   ]
  },
  {
   "cell_type": "code",
   "execution_count": 15,
   "metadata": {},
   "outputs": [],
   "source": [
    "file_paths = []\n",
    "emotions = []\n",
    "\n",
    "# Looping through each file in the directory\n",
    "for file_name in os.listdir(savee_base_path):\n",
    "    # Extracting the last part after underscore (emotion identifier and file extension)\n",
    "    file = file_name.split(\"_\")[-1]\n",
    "    \n",
    "    # Extracting the emotion code by removing the file extension\n",
    "    emotion = file.split(\".\")[0]  # Drops \".wav\"\n",
    "    emotion = emotion[0:2]        # First two characters\n",
    "    \n",
    "    # Handling cases where numeric is present in the code\n",
    "    if emotion[-1].isnumeric():\n",
    "        emotion = emotion[0]  # Gets only the first character if it is numeric (e.g., for Happy, Sad)\n",
    "\n",
    "    # Storing the file path and corresponding emotion label\n",
    "    file_paths.append(os.path.join(savee_base_path, file_name))\n",
    "    emotions.append(savee_emotion_map.get(emotion, \"Unknown\"))  # Map to the emotion label"
   ]
  },
  {
   "cell_type": "code",
   "execution_count": 16,
   "metadata": {},
   "outputs": [
    {
     "name": "stdout",
     "output_type": "stream",
     "text": [
      "(480,) (480,) (480,)\n"
     ]
    }
   ],
   "source": [
    "# Converting lists to numpy arrays\n",
    "file_paths = np.array(file_paths)\n",
    "emotions = np.array(emotions)\n",
    "\n",
    "# Initializing emotion levels as zeros (adjust if necessary for your task)\n",
    "emotion_levels = np.zeros(file_paths.shape)\n",
    "\n",
    "# Verify the shapes of the arrays\n",
    "print(file_paths.shape, emotion_levels.shape, emotions.shape)  # Expected output: (480,), (480,), (480,)"
   ]
  },
  {
   "cell_type": "code",
   "execution_count": 17,
   "metadata": {},
   "outputs": [
    {
     "name": "stdout",
     "output_type": "stream",
     "text": [
      "        File Name  Emotion Level Emotion\n",
      "0  ALL\\DC_a01.wav            0.0   Angry\n",
      "1  ALL\\DC_a02.wav            0.0   Angry\n",
      "2  ALL\\DC_a03.wav            0.0   Angry\n",
      "3  ALL\\DC_a04.wav            0.0   Angry\n",
      "4  ALL\\DC_a05.wav            0.0   Angry\n",
      "5  ALL\\DC_a06.wav            0.0   Angry\n",
      "6  ALL\\DC_a07.wav            0.0   Angry\n",
      "7  ALL\\DC_a08.wav            0.0   Angry\n",
      "8  ALL\\DC_a09.wav            0.0   Angry\n",
      "9  ALL\\DC_a10.wav            0.0   Angry\n"
     ]
    }
   ],
   "source": [
    "# Creating the DataFrame\n",
    "savee_file_dataframe = create_file_dataframe(file_paths, emotion_levels, emotions)\n",
    "\n",
    "# Display the first few rows of the DataFrame\n",
    "print(savee_file_dataframe.head(10))"
   ]
  },
  {
   "cell_type": "code",
   "execution_count": 18,
   "metadata": {},
   "outputs": [
    {
     "data": {
      "image/png": "[encoded data removed]",
      "text/plain": [
       "<Figure size 640x480 with 1 Axes>"
      ]
     },
     "metadata": {},
     "output_type": "display_data"
    },
    {
     "data": {
      "image/png": "[encoded data removed]",
      "text/plain": [
       "<Figure size 640x480 with 1 Axes>"
      ]
     },
     "metadata": {},
     "output_type": "display_data"
    }
   ],
   "source": [
    "display_distributions(savee_file_dataframe, \"SAVEE\")"
   ]
  },
  {
   "cell_type": "markdown",
   "metadata": {},
   "source": [
    "# Augmentation"
   ]
  },
  {
   "cell_type": "code",
   "execution_count": 19,
   "metadata": {},
   "outputs": [],
   "source": [
    "# file_dataframes = [crema_d_files, ravdess_file_dataframe, tess_file_dataframe, savee_file_dataframe]\n",
    "file_dataframes = [savee_file_dataframe]"
   ]
  },
  {
   "cell_type": "code",
   "execution_count": 20,
   "metadata": {},
   "outputs": [
    {
     "data": {
      "text/html": [
       "<div>\n",
       "<style scoped>\n",
       "    .dataframe tbody tr th:only-of-type {\n",
       "        vertical-align: middle;\n",
       "    }\n",
       "\n",
       "    .dataframe tbody tr th {\n",
       "        vertical-align: top;\n",
       "    }\n",
       "\n",
       "    .dataframe thead th {\n",
       "        text-align: right;\n",
       "    }\n",
       "</style>\n",
       "<table border=\"1\" class=\"dataframe\">\n",
       "  <thead>\n",
       "    <tr style=\"text-align: right;\">\n",
       "      <th></th>\n",
       "      <th>File Name</th>\n",
       "      <th>Emotion Level</th>\n",
       "      <th>Emotion</th>\n",
       "    </tr>\n",
       "  </thead>\n",
       "  <tbody>\n",
       "    <tr>\n",
       "      <th>0</th>\n",
       "      <td>ALL\\DC_a01.wav</td>\n",
       "      <td>0.0</td>\n",
       "      <td>Angry</td>\n",
       "    </tr>\n",
       "    <tr>\n",
       "      <th>1</th>\n",
       "      <td>ALL\\DC_a02.wav</td>\n",
       "      <td>0.0</td>\n",
       "      <td>Angry</td>\n",
       "    </tr>\n",
       "    <tr>\n",
       "      <th>2</th>\n",
       "      <td>ALL\\DC_a03.wav</td>\n",
       "      <td>0.0</td>\n",
       "      <td>Angry</td>\n",
       "    </tr>\n",
       "    <tr>\n",
       "      <th>3</th>\n",
       "      <td>ALL\\DC_a04.wav</td>\n",
       "      <td>0.0</td>\n",
       "      <td>Angry</td>\n",
       "    </tr>\n",
       "    <tr>\n",
       "      <th>4</th>\n",
       "      <td>ALL\\DC_a05.wav</td>\n",
       "      <td>0.0</td>\n",
       "      <td>Angry</td>\n",
       "    </tr>\n",
       "  </tbody>\n",
       "</table>\n",
       "</div>"
      ],
      "text/plain": [
       "        File Name  Emotion Level Emotion\n",
       "0  ALL\\DC_a01.wav            0.0   Angry\n",
       "1  ALL\\DC_a02.wav            0.0   Angry\n",
       "2  ALL\\DC_a03.wav            0.0   Angry\n",
       "3  ALL\\DC_a04.wav            0.0   Angry\n",
       "4  ALL\\DC_a05.wav            0.0   Angry"
      ]
     },
     "execution_count": 20,
     "metadata": {},
     "output_type": "execute_result"
    }
   ],
   "source": [
    "combined_file_dataframe = pd.concat(file_dataframes, axis = 0)\n",
    "combined_file_dataframe.head()"
   ]
  },
  {
   "cell_type": "code",
   "execution_count": 189,
   "metadata": {},
   "outputs": [],
   "source": [
    "# display_distributions(combined_file_dataframe, \"Combined Dataset\")"
   ]
  },
  {
   "cell_type": "code",
   "execution_count": null,
   "metadata": {},
   "outputs": [],
   "source": [
    "'''\n",
    "combined_file_dataframe.replace({\n",
    "    \"Calm\": \"Neutral\"\n",
    "}, inplace = True)\n",
    "combined_file_dataframe[\"Emotion\"].unique()\n",
    "'''"
   ]
  },
  {
   "cell_type": "code",
   "execution_count": 21,
   "metadata": {},
   "outputs": [
    {
     "data": {
      "text/plain": [
       "Emotion\n",
       "Neutral      25.0\n",
       "Angry        12.5\n",
       "Disgusted    12.5\n",
       "Fearful      12.5\n",
       "Happy        12.5\n",
       "Sad          12.5\n",
       "Surprised    12.5\n",
       "Name: proportion, dtype: float64"
      ]
     },
     "execution_count": 21,
     "metadata": {},
     "output_type": "execute_result"
    }
   ],
   "source": [
    "combined_file_dataframe[\"Emotion\"].value_counts(normalize = True) * 100"
   ]
  },
  {
   "cell_type": "code",
   "execution_count": 22,
   "metadata": {},
   "outputs": [
    {
     "data": {
      "text/html": [
       "<div>\n",
       "<style scoped>\n",
       "    .dataframe tbody tr th:only-of-type {\n",
       "        vertical-align: middle;\n",
       "    }\n",
       "\n",
       "    .dataframe tbody tr th {\n",
       "        vertical-align: top;\n",
       "    }\n",
       "\n",
       "    .dataframe thead th {\n",
       "        text-align: right;\n",
       "    }\n",
       "</style>\n",
       "<table border=\"1\" class=\"dataframe\">\n",
       "  <thead>\n",
       "    <tr style=\"text-align: right;\">\n",
       "      <th></th>\n",
       "      <th>File Name</th>\n",
       "      <th>Emotion</th>\n",
       "    </tr>\n",
       "  </thead>\n",
       "  <tbody>\n",
       "    <tr>\n",
       "      <th>0</th>\n",
       "      <td>ALL\\DC_a01.wav</td>\n",
       "      <td>Angry</td>\n",
       "    </tr>\n",
       "    <tr>\n",
       "      <th>1</th>\n",
       "      <td>ALL\\DC_a02.wav</td>\n",
       "      <td>Angry</td>\n",
       "    </tr>\n",
       "    <tr>\n",
       "      <th>2</th>\n",
       "      <td>ALL\\DC_a03.wav</td>\n",
       "      <td>Angry</td>\n",
       "    </tr>\n",
       "    <tr>\n",
       "      <th>3</th>\n",
       "      <td>ALL\\DC_a04.wav</td>\n",
       "      <td>Angry</td>\n",
       "    </tr>\n",
       "    <tr>\n",
       "      <th>4</th>\n",
       "      <td>ALL\\DC_a05.wav</td>\n",
       "      <td>Angry</td>\n",
       "    </tr>\n",
       "  </tbody>\n",
       "</table>\n",
       "</div>"
      ],
      "text/plain": [
       "        File Name Emotion\n",
       "0  ALL\\DC_a01.wav   Angry\n",
       "1  ALL\\DC_a02.wav   Angry\n",
       "2  ALL\\DC_a03.wav   Angry\n",
       "3  ALL\\DC_a04.wav   Angry\n",
       "4  ALL\\DC_a05.wav   Angry"
      ]
     },
     "execution_count": 22,
     "metadata": {},
     "output_type": "execute_result"
    }
   ],
   "source": [
    "combined_file_dataframe = combined_file_dataframe.drop(\"Emotion Level\", axis = 1)\n",
    "combined_file_dataframe.head()"
   ]
  },
  {
   "cell_type": "code",
   "execution_count": 23,
   "metadata": {},
   "outputs": [
    {
     "data": {
      "text/plain": [
       "{'Angry': 0,\n",
       " 'Disgusted': 1,\n",
       " 'Fearful': 2,\n",
       " 'Happy': 3,\n",
       " 'Neutral': 4,\n",
       " 'Sad': 5,\n",
       " 'Surprised': 6}"
      ]
     },
     "execution_count": 23,
     "metadata": {},
     "output_type": "execute_result"
    }
   ],
   "source": [
    "emotions = combined_file_dataframe[\"Emotion\"].unique()\n",
    "emotion_map = list(enumerate(emotions))\n",
    "emotion_map_dict = {}\n",
    "for emotion_mapping in emotion_map:\n",
    "    emotion_map_dict[emotion_mapping[1]] = emotion_mapping[0]\n",
    "emotion_map_dict"
   ]
  },
  {
   "cell_type": "code",
   "execution_count": 24,
   "metadata": {},
   "outputs": [
    {
     "name": "stderr",
     "output_type": "stream",
     "text": [
      "C:\\Users\\akshi\\AppData\\Local\\Temp\\ipykernel_8780\\3380151486.py:1: FutureWarning: Downcasting behavior in `replace` is deprecated and will be removed in a future version. To retain the old behavior, explicitly call `result.infer_objects(copy=False)`. To opt-in to the future behavior, set `pd.set_option('future.no_silent_downcasting', True)`\n",
      "  combined_file_dataframe[\"Emotion\"] = combined_file_dataframe[\"Emotion\"].replace(emotion_map_dict)\n"
     ]
    },
    {
     "data": {
      "text/html": [
       "<div>\n",
       "<style scoped>\n",
       "    .dataframe tbody tr th:only-of-type {\n",
       "        vertical-align: middle;\n",
       "    }\n",
       "\n",
       "    .dataframe tbody tr th {\n",
       "        vertical-align: top;\n",
       "    }\n",
       "\n",
       "    .dataframe thead th {\n",
       "        text-align: right;\n",
       "    }\n",
       "</style>\n",
       "<table border=\"1\" class=\"dataframe\">\n",
       "  <thead>\n",
       "    <tr style=\"text-align: right;\">\n",
       "      <th></th>\n",
       "      <th>File Name</th>\n",
       "      <th>Emotion</th>\n",
       "    </tr>\n",
       "  </thead>\n",
       "  <tbody>\n",
       "    <tr>\n",
       "      <th>0</th>\n",
       "      <td>ALL\\DC_a01.wav</td>\n",
       "      <td>0</td>\n",
       "    </tr>\n",
       "    <tr>\n",
       "      <th>1</th>\n",
       "      <td>ALL\\DC_a02.wav</td>\n",
       "      <td>0</td>\n",
       "    </tr>\n",
       "    <tr>\n",
       "      <th>2</th>\n",
       "      <td>ALL\\DC_a03.wav</td>\n",
       "      <td>0</td>\n",
       "    </tr>\n",
       "    <tr>\n",
       "      <th>3</th>\n",
       "      <td>ALL\\DC_a04.wav</td>\n",
       "      <td>0</td>\n",
       "    </tr>\n",
       "    <tr>\n",
       "      <th>4</th>\n",
       "      <td>ALL\\DC_a05.wav</td>\n",
       "      <td>0</td>\n",
       "    </tr>\n",
       "  </tbody>\n",
       "</table>\n",
       "</div>"
      ],
      "text/plain": [
       "        File Name  Emotion\n",
       "0  ALL\\DC_a01.wav        0\n",
       "1  ALL\\DC_a02.wav        0\n",
       "2  ALL\\DC_a03.wav        0\n",
       "3  ALL\\DC_a04.wav        0\n",
       "4  ALL\\DC_a05.wav        0"
      ]
     },
     "execution_count": 24,
     "metadata": {},
     "output_type": "execute_result"
    }
   ],
   "source": [
    "combined_file_dataframe[\"Emotion\"] = combined_file_dataframe[\"Emotion\"].replace(emotion_map_dict)\n",
    "combined_file_dataframe.head()"
   ]
  },
  {
   "cell_type": "code",
   "execution_count": 25,
   "metadata": {},
   "outputs": [],
   "source": [
    "from sklearn.preprocessing import OneHotEncoder\n",
    "from sklearn.model_selection import train_test_split"
   ]
  },
  {
   "cell_type": "code",
   "execution_count": 26,
   "metadata": {},
   "outputs": [
    {
     "data": {
      "text/plain": [
       "array([[1., 0., 0., ..., 0., 0., 0.],\n",
       "       [1., 0., 0., ..., 0., 0., 0.],\n",
       "       [1., 0., 0., ..., 0., 0., 0.],\n",
       "       ...,\n",
       "       [0., 0., 0., ..., 0., 0., 1.],\n",
       "       [0., 0., 0., ..., 0., 0., 1.],\n",
       "       [0., 0., 0., ..., 0., 0., 1.]])"
      ]
     },
     "execution_count": 26,
     "metadata": {},
     "output_type": "execute_result"
    }
   ],
   "source": [
    "ohe = OneHotEncoder()\n",
    "new_labels = ohe.fit_transform(combined_file_dataframe[\"Emotion\"].to_numpy().reshape(-1, 1))\n",
    "new_labels = new_labels.toarray()\n",
    "new_labels"
   ]
  },
  {
   "cell_type": "code",
   "execution_count": 27,
   "metadata": {},
   "outputs": [
    {
     "data": {
      "text/plain": [
       "((480,), (480, 7))"
      ]
     },
     "execution_count": 27,
     "metadata": {},
     "output_type": "execute_result"
    }
   ],
   "source": [
    "emotion_files = combined_file_dataframe[\"File Name\"].to_numpy()\n",
    "labels = new_labels\n",
    "emotion_files.shape, labels.shape"
   ]
  },
  {
   "cell_type": "code",
   "execution_count": 28,
   "metadata": {},
   "outputs": [
    {
     "data": {
      "text/plain": [
       "((336,), (144,), (336, 7), (144, 7))"
      ]
     },
     "execution_count": 28,
     "metadata": {},
     "output_type": "execute_result"
    }
   ],
   "source": [
    "test_ratio = 0.3\n",
    "val_ratio = 0.2 #20% of 70% of dataset = 14% for validation\n",
    "X, X_test, y, y_test = train_test_split(emotion_files, labels, test_size = test_ratio, random_state = 24)\n",
    "X.shape, X_test.shape, y.shape, y_test.shape"
   ]
  },
  {
   "cell_type": "code",
   "execution_count": 29,
   "metadata": {},
   "outputs": [
    {
     "data": {
      "text/plain": [
       "((268,), (68,), (268, 7), (68, 7))"
      ]
     },
     "execution_count": 29,
     "metadata": {},
     "output_type": "execute_result"
    }
   ],
   "source": [
    "X_train, X_val, y_train, y_val = train_test_split(X, y, test_size = val_ratio, random_state = 24)\n",
    "X_train.shape, X_val.shape, y_train.shape, y_val.shape"
   ]
  },
  {
   "cell_type": "code",
   "execution_count": 30,
   "metadata": {},
   "outputs": [],
   "source": [
    "#Preprocessing helper functions\n",
    "#Standardizes waveform shape (desired shape = (66150, ))\n",
    "def standardize_waveform_shape(waveform):\n",
    "    audio_length = 66150\n",
    "    if len(waveform) > audio_length:\n",
    "        waveform = waveform[:audio_length]\n",
    "    else:\n",
    "        waveform = np.pad(waveform, (0, max(0, audio_length - len(waveform))), \"constant\")\n",
    "    return waveform"
   ]
  },
  {
   "cell_type": "code",
   "execution_count": 31,
   "metadata": {},
   "outputs": [],
   "source": [
    "#Takes .wav file, applies transformation, then returns spectogram\n",
    "audio_path = \"kitchen_2_Dishes_4_1_white_80.wav\" \n",
    "def get_augmented_audio(audio_file):\n",
    "    waveform, sample_rate = librosa.load(audio_file, duration = 3.0)\n",
    "    \n",
    "    waveform = standardize_waveform_shape(waveform)\n",
    "    \n",
    "    gaussian = AddGaussianSNR(\n",
    "        min_snr_db = 3.0, \n",
    "        max_snr_db = 40\n",
    "    )\n",
    "    \n",
    "    random_noise_path = audio_path\n",
    "    background_noise = AddBackgroundNoise(\n",
    "        sounds_path = random_noise_path,\n",
    "        min_snr_db = 2.0,\n",
    "        max_snr_db = 30.0\n",
    "    )\n",
    "    \n",
    "    augmented_sound = gaussian(waveform, sample_rate = sample_rate)\n",
    "    augment_sound = background_noise(waveform, sample_rate = sample_rate)\n",
    "    \n",
    "    mel_spectrogram = librosa.feature.melspectrogram(y = augmented_sound, sr = sample_rate)\n",
    "    mel_spectrogram = mel_spectrogram.reshape(-1)\n",
    "    \n",
    "    return mel_spectrogram"
   ]
  },
  {
   "cell_type": "code",
   "execution_count": 32,
   "metadata": {},
   "outputs": [],
   "source": [
    "def get_spectrogram(audio_file):\n",
    "    waveshow, sample_rate = librosa.load(audio_file, duration = 3.0)\n",
    "    waveshow = standardize_waveform_shape(waveshow)\n",
    "    mel_spectrogram = librosa.feature.melspectrogram(y = waveshow, sr = sample_rate)\n",
    "    mel_spectrogram = mel_spectrogram.reshape(-1)\n",
    "    \n",
    "    return mel_spectrogram"
   ]
  },
  {
   "cell_type": "code",
   "execution_count": 33,
   "metadata": {},
   "outputs": [
    {
     "name": "stderr",
     "output_type": "stream",
     "text": [
      "144it [00:14,  9.65it/s]\n"
     ]
    }
   ],
   "source": [
    "X_test_spectrograms = []\n",
    "y_test_final = []\n",
    "\n",
    "for audio_file, label in tqdm(zip(X_test, y_test)):\n",
    "    spectrogram = get_spectrogram(audio_file)\n",
    "    X_test_spectrograms.append(spectrogram)\n",
    "    y_test_final.append(label)"
   ]
  },
  {
   "cell_type": "code",
   "execution_count": 34,
   "metadata": {},
   "outputs": [
    {
     "data": {
      "text/plain": [
       "((144, 16640), (144, 7))"
      ]
     },
     "execution_count": 34,
     "metadata": {},
     "output_type": "execute_result"
    }
   ],
   "source": [
    "X_test = np.array(X_test_spectrograms)\n",
    "y_test = np.array(y_test_final)\n",
    "X_test.shape, y_test.shape"
   ]
  },
  {
   "cell_type": "code",
   "execution_count": 35,
   "metadata": {},
   "outputs": [],
   "source": [
    "X_train_spectrogram = []\n",
    "y_train_final = []\n",
    "\n",
    "percent_augmented_train = 0.4 #Augmenting 40% of train dataset"
   ]
  },
  {
   "cell_type": "code",
   "execution_count": 36,
   "metadata": {},
   "outputs": [
    {
     "name": "stderr",
     "output_type": "stream",
     "text": [
      "0it [00:00, ?it/s]c:\\Users\\akshi\\anaconda3\\envs\\pytorch\\Lib\\site-packages\\audiomentations\\core\\audio_loading_utils.py:37: UserWarning: c:\\Users\\akshi\\Downloads\\EmDet\\EmDet\\kitchen_2_Dishes_4_1_white_80.wav had to be resampled from 16000 Hz to 22050 Hz. This hurt execution time.\n",
      "  warnings.warn(\n",
      "268it [00:04, 54.42it/s]\n"
     ]
    }
   ],
   "source": [
    "for audio_file, label in tqdm(zip(X_train, y_train)):\n",
    "    random = np.random.default_rng().random()\n",
    "    if random <= percent_augmented_train:\n",
    "        spectrogram = get_augmented_audio(audio_file)\n",
    "    else:\n",
    "        spectrogram = get_spectrogram(audio_file)\n",
    "    X_train_spectrogram.append(spectrogram)\n",
    "    y_train_final.append(label)"
   ]
  },
  {
   "cell_type": "code",
   "execution_count": 37,
   "metadata": {},
   "outputs": [
    {
     "data": {
      "text/plain": [
       "((268, 16640), (268, 7))"
      ]
     },
     "execution_count": 37,
     "metadata": {},
     "output_type": "execute_result"
    }
   ],
   "source": [
    "X_train = np.array(X_train_spectrogram)\n",
    "y_train = np.array(y_train_final)\n",
    "X_train.shape, y_train.shape"
   ]
  },
  {
   "cell_type": "code",
   "execution_count": 38,
   "metadata": {},
   "outputs": [],
   "source": [
    "X_val_spectrogram = []\n",
    "y_val_final = []\n",
    "\n",
    "percent_augmented_val = 0.4 #Augmenting 40% of validation dataset"
   ]
  },
  {
   "cell_type": "code",
   "execution_count": 39,
   "metadata": {},
   "outputs": [
    {
     "name": "stderr",
     "output_type": "stream",
     "text": [
      "68it [00:01, 51.49it/s]\n"
     ]
    }
   ],
   "source": [
    "for audio_file, label in tqdm(zip(X_val, y_val)):\n",
    "    random = np.random.default_rng().random()\n",
    "    if random <= percent_augmented_val:\n",
    "        spectrogram = get_augmented_audio(audio_file)\n",
    "    else:\n",
    "        spectrogram = get_spectrogram(audio_file)\n",
    "    X_val_spectrogram.append(spectrogram)\n",
    "    y_val_final.append(label)"
   ]
  },
  {
   "cell_type": "code",
   "execution_count": 40,
   "metadata": {},
   "outputs": [
    {
     "data": {
      "text/plain": [
       "((68, 16640), (68, 7))"
      ]
     },
     "execution_count": 40,
     "metadata": {},
     "output_type": "execute_result"
    }
   ],
   "source": [
    "X_val = np.array(X_val_spectrogram)\n",
    "y_val = np.array(y_val_final)\n",
    "X_val.shape, y_val.shape"
   ]
  },
  {
   "cell_type": "markdown",
   "metadata": {},
   "source": [
    "# Model Training"
   ]
  },
  {
   "cell_type": "code",
   "execution_count": 42,
   "metadata": {},
   "outputs": [
    {
     "name": "stdout",
     "output_type": "stream",
     "text": [
      "Collecting tensorflow\n",
      "  Downloading tensorflow-2.17.0-cp311-cp311-win_amd64.whl.metadata (3.2 kB)\n",
      "Collecting tensorflow-intel==2.17.0 (from tensorflow)\n",
      "  Downloading tensorflow_intel-2.17.0-cp311-cp311-win_amd64.whl.metadata (5.0 kB)\n",
      "Collecting absl-py>=1.0.0 (from tensorflow-intel==2.17.0->tensorflow)\n",
      "  Using cached absl_py-2.1.0-py3-none-any.whl.metadata (2.3 kB)\n",
      "Collecting astunparse>=1.6.0 (from tensorflow-intel==2.17.0->tensorflow)\n",
      "  Using cached astunparse-1.6.3-py2.py3-none-any.whl.metadata (4.4 kB)\n",
      "Collecting flatbuffers>=24.3.25 (from tensorflow-intel==2.17.0->tensorflow)\n",
      "  Using cached flatbuffers-24.3.25-py2.py3-none-any.whl.metadata (850 bytes)\n",
      "Collecting gast!=0.5.0,!=0.5.1,!=0.5.2,>=0.2.1 (from tensorflow-intel==2.17.0->tensorflow)\n",
      "  Downloading gast-0.6.0-py3-none-any.whl.metadata (1.3 kB)\n",
      "Collecting google-pasta>=0.1.1 (from tensorflow-intel==2.17.0->tensorflow)\n",
      "  Using cached google_pasta-0.2.0-py3-none-any.whl.metadata (814 bytes)\n",
      "Collecting h5py>=3.10.0 (from tensorflow-intel==2.17.0->tensorflow)\n",
      "  Downloading h5py-3.12.1-cp311-cp311-win_amd64.whl.metadata (2.5 kB)\n",
      "Collecting libclang>=13.0.0 (from tensorflow-intel==2.17.0->tensorflow)\n",
      "  Using cached libclang-18.1.1-py2.py3-none-win_amd64.whl.metadata (5.3 kB)\n",
      "Collecting ml-dtypes<0.5.0,>=0.3.1 (from tensorflow-intel==2.17.0->tensorflow)\n",
      "  Downloading ml_dtypes-0.4.1-cp311-cp311-win_amd64.whl.metadata (20 kB)\n",
      "Collecting opt-einsum>=2.3.2 (from tensorflow-intel==2.17.0->tensorflow)\n",
      "  Downloading opt_einsum-3.4.0-py3-none-any.whl.metadata (6.3 kB)\n",
      "Requirement already satisfied: packaging in c:\\users\\akshi\\anaconda3\\envs\\pytorch\\lib\\site-packages (from tensorflow-intel==2.17.0->tensorflow) (23.2)\n",
      "Requirement already satisfied: protobuf!=4.21.0,!=4.21.1,!=4.21.2,!=4.21.3,!=4.21.4,!=4.21.5,<5.0.0dev,>=3.20.3 in c:\\users\\akshi\\anaconda3\\envs\\pytorch\\lib\\site-packages (from tensorflow-intel==2.17.0->tensorflow) (3.20.3)\n",
      "Requirement already satisfied: requests<3,>=2.21.0 in c:\\users\\akshi\\anaconda3\\envs\\pytorch\\lib\\site-packages (from tensorflow-intel==2.17.0->tensorflow) (2.31.0)\n",
      "Requirement already satisfied: setuptools in c:\\users\\akshi\\anaconda3\\envs\\pytorch\\lib\\site-packages (from tensorflow-intel==2.17.0->tensorflow) (69.5.1)\n",
      "Requirement already satisfied: six>=1.12.0 in c:\\users\\akshi\\anaconda3\\envs\\pytorch\\lib\\site-packages (from tensorflow-intel==2.17.0->tensorflow) (1.16.0)\n",
      "Collecting termcolor>=1.1.0 (from tensorflow-intel==2.17.0->tensorflow)\n",
      "  Downloading termcolor-2.5.0-py3-none-any.whl.metadata (6.1 kB)\n",
      "Requirement already satisfied: typing-extensions>=3.6.6 in c:\\users\\akshi\\anaconda3\\envs\\pytorch\\lib\\site-packages (from tensorflow-intel==2.17.0->tensorflow) (4.11.0)\n",
      "Collecting wrapt>=1.11.0 (from tensorflow-intel==2.17.0->tensorflow)\n",
      "  Using cached wrapt-1.16.0-cp311-cp311-win_amd64.whl.metadata (6.8 kB)\n",
      "Collecting grpcio<2.0,>=1.24.3 (from tensorflow-intel==2.17.0->tensorflow)\n",
      "  Downloading grpcio-1.67.0-cp311-cp311-win_amd64.whl.metadata (4.0 kB)\n",
      "Collecting tensorboard<2.18,>=2.17 (from tensorflow-intel==2.17.0->tensorflow)\n",
      "  Downloading tensorboard-2.17.1-py3-none-any.whl.metadata (1.6 kB)\n",
      "Collecting keras>=3.2.0 (from tensorflow-intel==2.17.0->tensorflow)\n",
      "  Downloading keras-3.6.0-py3-none-any.whl.metadata (5.8 kB)\n",
      "Collecting tensorflow-io-gcs-filesystem>=0.23.1 (from tensorflow-intel==2.17.0->tensorflow)\n",
      "  Using cached tensorflow_io_gcs_filesystem-0.31.0-cp311-cp311-win_amd64.whl.metadata (14 kB)\n",
      "Requirement already satisfied: numpy<2.0.0,>=1.23.5 in c:\\users\\akshi\\anaconda3\\envs\\pytorch\\lib\\site-packages (from tensorflow-intel==2.17.0->tensorflow) (1.24.3)\n",
      "Requirement already satisfied: wheel<1.0,>=0.23.0 in c:\\users\\akshi\\anaconda3\\envs\\pytorch\\lib\\site-packages (from astunparse>=1.6.0->tensorflow-intel==2.17.0->tensorflow) (0.43.0)\n",
      "Requirement already satisfied: rich in c:\\users\\akshi\\anaconda3\\envs\\pytorch\\lib\\site-packages (from keras>=3.2.0->tensorflow-intel==2.17.0->tensorflow) (13.3.5)\n",
      "Collecting namex (from keras>=3.2.0->tensorflow-intel==2.17.0->tensorflow)\n",
      "  Using cached namex-0.0.8-py3-none-any.whl.metadata (246 bytes)\n",
      "Collecting optree (from keras>=3.2.0->tensorflow-intel==2.17.0->tensorflow)\n",
      "  Downloading optree-0.13.0-cp311-cp311-win_amd64.whl.metadata (48 kB)\n",
      "     ---------------------------------------- 0.0/48.7 kB ? eta -:--:--\n",
      "     ---------------------------------------- 48.7/48.7 kB 1.2 MB/s eta 0:00:00\n",
      "Requirement already satisfied: charset-normalizer<4,>=2 in c:\\users\\akshi\\anaconda3\\envs\\pytorch\\lib\\site-packages (from requests<3,>=2.21.0->tensorflow-intel==2.17.0->tensorflow) (2.0.4)\n",
      "Requirement already satisfied: idna<4,>=2.5 in c:\\users\\akshi\\anaconda3\\envs\\pytorch\\lib\\site-packages (from requests<3,>=2.21.0->tensorflow-intel==2.17.0->tensorflow) (3.7)\n",
      "Requirement already satisfied: urllib3<3,>=1.21.1 in c:\\users\\akshi\\anaconda3\\envs\\pytorch\\lib\\site-packages (from requests<3,>=2.21.0->tensorflow-intel==2.17.0->tensorflow) (2.2.1)\n",
      "Requirement already satisfied: certifi>=2017.4.17 in c:\\users\\akshi\\anaconda3\\envs\\pytorch\\lib\\site-packages (from requests<3,>=2.21.0->tensorflow-intel==2.17.0->tensorflow) (2024.6.2)\n",
      "Collecting markdown>=2.6.8 (from tensorboard<2.18,>=2.17->tensorflow-intel==2.17.0->tensorflow)\n",
      "  Downloading Markdown-3.7-py3-none-any.whl.metadata (7.0 kB)\n",
      "Collecting tensorboard-data-server<0.8.0,>=0.7.0 (from tensorboard<2.18,>=2.17->tensorflow-intel==2.17.0->tensorflow)\n",
      "  Using cached tensorboard_data_server-0.7.2-py3-none-any.whl.metadata (1.1 kB)\n",
      "Collecting werkzeug>=1.0.1 (from tensorboard<2.18,>=2.17->tensorflow-intel==2.17.0->tensorflow)\n",
      "  Downloading werkzeug-3.0.4-py3-none-any.whl.metadata (3.7 kB)\n",
      "Requirement already satisfied: MarkupSafe>=2.1.1 in c:\\users\\akshi\\anaconda3\\envs\\pytorch\\lib\\site-packages (from werkzeug>=1.0.1->tensorboard<2.18,>=2.17->tensorflow-intel==2.17.0->tensorflow) (2.1.3)\n",
      "Requirement already satisfied: markdown-it-py<3.0.0,>=2.2.0 in c:\\users\\akshi\\anaconda3\\envs\\pytorch\\lib\\site-packages (from rich->keras>=3.2.0->tensorflow-intel==2.17.0->tensorflow) (2.2.0)\n",
      "Requirement already satisfied: pygments<3.0.0,>=2.13.0 in c:\\users\\akshi\\anaconda3\\envs\\pytorch\\lib\\site-packages (from rich->keras>=3.2.0->tensorflow-intel==2.17.0->tensorflow) (2.18.0)\n",
      "Requirement already satisfied: mdurl~=0.1 in c:\\users\\akshi\\anaconda3\\envs\\pytorch\\lib\\site-packages (from markdown-it-py<3.0.0,>=2.2.0->rich->keras>=3.2.0->tensorflow-intel==2.17.0->tensorflow) (0.1.0)\n",
      "Downloading tensorflow-2.17.0-cp311-cp311-win_amd64.whl (2.0 kB)\n",
      "Downloading tensorflow_intel-2.17.0-cp311-cp311-win_amd64.whl (385.0 MB)\n",
      "   ---------------------------------------- 0.0/385.0 MB ? eta -:--:--\n",
      "   ---------------------------------------- 0.4/385.0 MB 8.1 MB/s eta 0:00:48\n",
      "   ---------------------------------------- 0.6/385.0 MB 6.3 MB/s eta 0:01:01\n",
      "   ---------------------------------------- 0.9/385.0 MB 6.0 MB/s eta 0:01:04\n",
      "   ---------------------------------------- 1.2/385.0 MB 6.5 MB/s eta 0:01:00\n",
      "   ---------------------------------------- 1.5/385.0 MB 6.5 MB/s eta 0:01:00\n",
      "   ---------------------------------------- 1.7/385.0 MB 6.1 MB/s eta 0:01:03\n",
      "   ---------------------------------------- 2.0/385.0 MB 6.3 MB/s eta 0:01:01\n",
      "   ---------------------------------------- 2.2/385.0 MB 6.2 MB/s eta 0:01:02\n",
      "   ---------------------------------------- 2.4/385.0 MB 6.0 MB/s eta 0:01:05\n",
      "   ---------------------------------------- 2.7/385.0 MB 5.9 MB/s eta 0:01:05\n",
      "   ---------------------------------------- 3.0/385.0 MB 5.9 MB/s eta 0:01:05\n",
      "   ---------------------------------------- 3.2/385.0 MB 5.8 MB/s eta 0:01:07\n",
      "   ---------------------------------------- 3.4/385.0 MB 5.7 MB/s eta 0:01:08\n",
      "   ---------------------------------------- 3.7/385.0 MB 5.7 MB/s eta 0:01:08\n",
      "   ---------------------------------------- 4.0/385.0 MB 5.8 MB/s eta 0:01:06\n",
      "   ---------------------------------------- 4.2/385.0 MB 5.7 MB/s eta 0:01:07\n",
      "   ---------------------------------------- 4.5/385.0 MB 5.8 MB/s eta 0:01:06\n",
      "    --------------------------------------- 4.8/385.0 MB 5.8 MB/s eta 0:01:06\n",
      "    --------------------------------------- 5.0/385.0 MB 5.7 MB/s eta 0:01:07\n",
      "    --------------------------------------- 5.0/385.0 MB 5.6 MB/s eta 0:01:08\n",
      "    --------------------------------------- 5.1/385.0 MB 5.3 MB/s eta 0:01:12\n",
      "    --------------------------------------- 5.4/385.0 MB 5.3 MB/s eta 0:01:13\n",
      "    --------------------------------------- 5.6/385.0 MB 5.4 MB/s eta 0:01:11\n",
      "    --------------------------------------- 5.9/385.0 MB 5.3 MB/s eta 0:01:12\n",
      "    --------------------------------------- 6.0/385.0 MB 5.2 MB/s eta 0:01:13\n",
      "    --------------------------------------- 6.0/385.0 MB 5.1 MB/s eta 0:01:15\n",
      "    --------------------------------------- 6.2/385.0 MB 5.0 MB/s eta 0:01:17\n",
      "    --------------------------------------- 6.5/385.0 MB 5.0 MB/s eta 0:01:17\n",
      "    --------------------------------------- 6.6/385.0 MB 4.9 MB/s eta 0:01:17\n",
      "    --------------------------------------- 6.9/385.0 MB 4.9 MB/s eta 0:01:17\n",
      "    --------------------------------------- 7.1/385.0 MB 4.9 MB/s eta 0:01:17\n",
      "    --------------------------------------- 7.3/385.0 MB 5.0 MB/s eta 0:01:16\n",
      "    --------------------------------------- 7.6/385.0 MB 5.0 MB/s eta 0:01:16\n",
      "    --------------------------------------- 8.0/385.0 MB 5.1 MB/s eta 0:01:14\n",
      "    --------------------------------------- 8.3/385.0 MB 5.1 MB/s eta 0:01:14\n",
      "    --------------------------------------- 8.5/385.0 MB 5.1 MB/s eta 0:01:14\n",
      "    --------------------------------------- 8.8/385.0 MB 5.2 MB/s eta 0:01:13\n",
      "    --------------------------------------- 9.2/385.0 MB 5.2 MB/s eta 0:01:12\n",
      "    --------------------------------------- 9.4/385.0 MB 5.2 MB/s eta 0:01:12\n",
      "   - -------------------------------------- 9.7/385.0 MB 5.3 MB/s eta 0:01:12\n",
      "   - -------------------------------------- 10.0/385.0 MB 5.3 MB/s eta 0:01:11\n",
      "   - -------------------------------------- 10.3/385.0 MB 5.3 MB/s eta 0:01:11\n",
      "   - -------------------------------------- 10.7/385.0 MB 5.3 MB/s eta 0:01:11\n",
      "   - -------------------------------------- 11.2/385.0 MB 5.4 MB/s eta 0:01:10\n",
      "   - -------------------------------------- 11.7/385.0 MB 5.5 MB/s eta 0:01:08\n",
      "   - -------------------------------------- 12.2/385.0 MB 5.7 MB/s eta 0:01:06\n",
      "   - -------------------------------------- 12.9/385.0 MB 6.0 MB/s eta 0:01:03\n",
      "   - -------------------------------------- 13.6/385.0 MB 6.3 MB/s eta 0:01:00\n",
      "   - -------------------------------------- 14.4/385.0 MB 6.6 MB/s eta 0:00:57\n",
      "   - -------------------------------------- 15.2/385.0 MB 7.1 MB/s eta 0:00:52\n",
      "   - -------------------------------------- 16.0/385.0 MB 8.0 MB/s eta 0:00:47\n",
      "   - -------------------------------------- 17.0/385.0 MB 9.8 MB/s eta 0:00:38\n",
      "   - -------------------------------------- 17.9/385.0 MB 11.1 MB/s eta 0:00:34\n",
      "   - -------------------------------------- 18.9/385.0 MB 12.6 MB/s eta 0:00:30\n",
      "   -- ------------------------------------- 19.6/385.0 MB 13.6 MB/s eta 0:00:27\n",
      "   -- ------------------------------------- 20.3/385.0 MB 14.6 MB/s eta 0:00:26\n",
      "   -- ------------------------------------- 20.9/385.0 MB 15.6 MB/s eta 0:00:24\n",
      "   -- ------------------------------------- 21.6/385.0 MB 16.4 MB/s eta 0:00:23\n",
      "   -- ------------------------------------- 22.3/385.0 MB 16.4 MB/s eta 0:00:23\n",
      "   -- ------------------------------------- 23.0/385.0 MB 16.4 MB/s eta 0:00:23\n",
      "   -- ------------------------------------- 23.8/385.0 MB 17.2 MB/s eta 0:00:21\n",
      "   -- ------------------------------------- 24.7/385.0 MB 16.8 MB/s eta 0:00:22\n",
      "   -- ------------------------------------- 25.6/385.0 MB 16.8 MB/s eta 0:00:22\n",
      "   -- ------------------------------------- 26.6/385.0 MB 17.2 MB/s eta 0:00:21\n",
      "   -- ------------------------------------- 27.4/385.0 MB 17.2 MB/s eta 0:00:21\n",
      "   -- ------------------------------------- 28.4/385.0 MB 17.2 MB/s eta 0:00:21\n",
      "   --- ------------------------------------ 29.3/385.0 MB 16.8 MB/s eta 0:00:22\n",
      "   --- ------------------------------------ 30.3/385.0 MB 17.7 MB/s eta 0:00:21\n",
      "   --- ------------------------------------ 31.3/385.0 MB 18.7 MB/s eta 0:00:19\n",
      "   --- ------------------------------------ 32.2/385.0 MB 19.2 MB/s eta 0:00:19\n",
      "   --- ------------------------------------ 33.2/385.0 MB 20.5 MB/s eta 0:00:18\n",
      "   --- ------------------------------------ 34.2/385.0 MB 20.5 MB/s eta 0:00:18\n",
      "   --- ------------------------------------ 35.1/385.0 MB 20.5 MB/s eta 0:00:18\n",
      "   --- ------------------------------------ 36.2/385.0 MB 21.1 MB/s eta 0:00:17\n",
      "   --- ------------------------------------ 37.0/385.0 MB 20.5 MB/s eta 0:00:18\n",
      "   --- ------------------------------------ 37.5/385.0 MB 19.8 MB/s eta 0:00:18\n",
      "   --- ------------------------------------ 38.1/385.0 MB 19.2 MB/s eta 0:00:19\n",
      "   ---- ----------------------------------- 38.8/385.0 MB 18.7 MB/s eta 0:00:19\n",
      "   ---- ----------------------------------- 39.5/385.0 MB 18.2 MB/s eta 0:00:19\n",
      "   ---- ----------------------------------- 40.2/385.0 MB 18.2 MB/s eta 0:00:19\n",
      "   ---- ----------------------------------- 40.9/385.0 MB 17.7 MB/s eta 0:00:20\n",
      "   ---- ----------------------------------- 41.8/385.0 MB 17.2 MB/s eta 0:00:20\n",
      "   ---- ----------------------------------- 42.6/385.0 MB 17.2 MB/s eta 0:00:20\n",
      "   ---- ----------------------------------- 43.3/385.0 MB 16.8 MB/s eta 0:00:21\n",
      "   ---- ----------------------------------- 44.0/385.0 MB 16.4 MB/s eta 0:00:21\n",
      "   ---- ----------------------------------- 44.7/385.0 MB 16.0 MB/s eta 0:00:22\n",
      "   ---- ----------------------------------- 45.3/385.0 MB 15.6 MB/s eta 0:00:22\n",
      "   ---- ----------------------------------- 45.9/385.0 MB 15.2 MB/s eta 0:00:23\n",
      "   ---- ----------------------------------- 46.6/385.0 MB 14.9 MB/s eta 0:00:23\n",
      "   ---- ----------------------------------- 47.3/385.0 MB 14.9 MB/s eta 0:00:23\n",
      "   ---- ----------------------------------- 48.0/385.0 MB 15.2 MB/s eta 0:00:23\n",
      "   ----- ---------------------------------- 48.8/385.0 MB 15.6 MB/s eta 0:00:22\n",
      "   ----- ---------------------------------- 49.7/385.0 MB 16.0 MB/s eta 0:00:22\n",
      "   ----- ---------------------------------- 50.3/385.0 MB 16.0 MB/s eta 0:00:21\n",
      "   ----- ---------------------------------- 51.1/385.0 MB 16.0 MB/s eta 0:00:21\n",
      "   ----- ---------------------------------- 51.8/385.0 MB 15.6 MB/s eta 0:00:22\n",
      "   ----- ---------------------------------- 52.7/385.0 MB 15.6 MB/s eta 0:00:22\n",
      "   ----- ---------------------------------- 53.3/385.0 MB 15.6 MB/s eta 0:00:22\n",
      "   ----- ---------------------------------- 53.9/385.0 MB 15.2 MB/s eta 0:00:22\n",
      "   ----- ---------------------------------- 54.5/385.0 MB 15.2 MB/s eta 0:00:22\n",
      "   ----- ---------------------------------- 55.0/385.0 MB 14.9 MB/s eta 0:00:23\n",
      "   ----- ---------------------------------- 55.5/385.0 MB 14.9 MB/s eta 0:00:23\n",
      "   ----- ---------------------------------- 56.0/385.0 MB 14.6 MB/s eta 0:00:23\n",
      "   ----- ---------------------------------- 56.5/385.0 MB 14.6 MB/s eta 0:00:23\n",
      "   ----- ---------------------------------- 57.1/385.0 MB 14.2 MB/s eta 0:00:24\n",
      "   ----- ---------------------------------- 57.6/385.0 MB 13.9 MB/s eta 0:00:24\n",
      "   ------ --------------------------------- 58.2/385.0 MB 13.9 MB/s eta 0:00:24\n",
      "   ------ --------------------------------- 58.7/385.0 MB 13.6 MB/s eta 0:00:24\n",
      "   ------ --------------------------------- 59.3/385.0 MB 13.6 MB/s eta 0:00:24\n",
      "   ------ --------------------------------- 60.1/385.0 MB 13.4 MB/s eta 0:00:25\n",
      "   ------ --------------------------------- 60.9/385.0 MB 13.4 MB/s eta 0:00:25\n",
      "   ------ --------------------------------- 61.7/385.0 MB 13.6 MB/s eta 0:00:24\n",
      "   ------ --------------------------------- 62.5/385.0 MB 13.6 MB/s eta 0:00:24\n",
      "   ------ --------------------------------- 63.4/385.0 MB 13.6 MB/s eta 0:00:24\n",
      "   ------ --------------------------------- 64.2/385.0 MB 13.9 MB/s eta 0:00:24\n",
      "   ------ --------------------------------- 65.1/385.0 MB 14.5 MB/s eta 0:00:23\n",
      "   ------ --------------------------------- 66.0/385.0 MB 15.2 MB/s eta 0:00:21\n",
      "   ------ --------------------------------- 66.8/385.0 MB 16.0 MB/s eta 0:00:20\n",
      "   ------- -------------------------------- 67.7/385.0 MB 16.8 MB/s eta 0:00:19\n",
      "   ------- -------------------------------- 68.6/385.0 MB 17.7 MB/s eta 0:00:18\n",
      "   ------- -------------------------------- 69.5/385.0 MB 18.2 MB/s eta 0:00:18\n",
      "   ------- -------------------------------- 70.1/385.0 MB 18.2 MB/s eta 0:00:18\n",
      "   ------- -------------------------------- 70.6/385.0 MB 17.7 MB/s eta 0:00:18\n",
      "   ------- -------------------------------- 71.3/385.0 MB 17.2 MB/s eta 0:00:19\n",
      "   ------- -------------------------------- 72.0/385.0 MB 17.3 MB/s eta 0:00:19\n",
      "   ------- -------------------------------- 72.7/385.0 MB 16.8 MB/s eta 0:00:19\n",
      "   ------- -------------------------------- 73.4/385.0 MB 16.4 MB/s eta 0:00:20\n",
      "   ------- -------------------------------- 74.1/385.0 MB 16.4 MB/s eta 0:00:19\n",
      "   ------- -------------------------------- 74.8/385.0 MB 16.4 MB/s eta 0:00:19\n",
      "   ------- -------------------------------- 75.5/385.0 MB 16.0 MB/s eta 0:00:20\n",
      "   ------- -------------------------------- 76.2/385.0 MB 15.6 MB/s eta 0:00:20\n",
      "   ------- -------------------------------- 76.9/385.0 MB 15.2 MB/s eta 0:00:21\n",
      "   -------- ------------------------------- 77.6/385.0 MB 15.6 MB/s eta 0:00:20\n",
      "   -------- ------------------------------- 78.4/385.0 MB 15.6 MB/s eta 0:00:20\n",
      "   -------- ------------------------------- 79.1/385.0 MB 15.2 MB/s eta 0:00:21\n",
      "   -------- ------------------------------- 79.7/385.0 MB 14.9 MB/s eta 0:00:21\n",
      "   -------- ------------------------------- 80.1/385.0 MB 14.6 MB/s eta 0:00:21\n",
      "   -------- ------------------------------- 80.6/385.0 MB 14.2 MB/s eta 0:00:22\n",
      "   -------- ------------------------------- 81.2/385.0 MB 14.2 MB/s eta 0:00:22\n",
      "   -------- ------------------------------- 81.8/385.0 MB 14.2 MB/s eta 0:00:22\n",
      "   -------- ------------------------------- 82.5/385.0 MB 14.2 MB/s eta 0:00:22\n",
      "   -------- ------------------------------- 83.2/385.0 MB 14.2 MB/s eta 0:00:22\n",
      "   -------- ------------------------------- 83.8/385.0 MB 14.2 MB/s eta 0:00:22\n",
      "   -------- ------------------------------- 84.4/385.0 MB 13.9 MB/s eta 0:00:22\n",
      "   -------- ------------------------------- 85.0/385.0 MB 13.9 MB/s eta 0:00:22\n",
      "   -------- ------------------------------- 85.8/385.0 MB 13.9 MB/s eta 0:00:22\n",
      "   -------- ------------------------------- 86.6/385.0 MB 13.9 MB/s eta 0:00:22\n",
      "   --------- ------------------------------ 87.4/385.0 MB 14.2 MB/s eta 0:00:21\n",
      "   --------- ------------------------------ 88.3/385.0 MB 14.2 MB/s eta 0:00:21\n",
      "   --------- ------------------------------ 89.0/385.0 MB 14.2 MB/s eta 0:00:21\n",
      "   --------- ------------------------------ 89.6/385.0 MB 14.2 MB/s eta 0:00:21\n",
      "   --------- ------------------------------ 90.3/385.0 MB 14.6 MB/s eta 0:00:21\n",
      "   --------- ------------------------------ 91.0/385.0 MB 14.9 MB/s eta 0:00:20\n",
      "   --------- ------------------------------ 91.7/385.0 MB 15.2 MB/s eta 0:00:20\n",
      "   --------- ------------------------------ 92.4/385.0 MB 15.2 MB/s eta 0:00:20\n",
      "   --------- ------------------------------ 93.0/385.0 MB 15.6 MB/s eta 0:00:19\n",
      "   --------- ------------------------------ 93.2/385.0 MB 14.6 MB/s eta 0:00:21\n",
      "   --------- ------------------------------ 94.0/385.0 MB 14.6 MB/s eta 0:00:21\n",
      "   --------- ------------------------------ 94.9/385.0 MB 15.2 MB/s eta 0:00:20\n",
      "   --------- ------------------------------ 95.9/385.0 MB 15.6 MB/s eta 0:00:19\n",
      "   ---------- ----------------------------- 96.8/385.0 MB 15.6 MB/s eta 0:00:19\n",
      "   ---------- ----------------------------- 97.7/385.0 MB 16.0 MB/s eta 0:00:19\n",
      "   ---------- ----------------------------- 98.8/385.0 MB 16.4 MB/s eta 0:00:18\n",
      "   ---------- ----------------------------- 99.8/385.0 MB 17.3 MB/s eta 0:00:17\n",
      "   ---------- ---------------------------- 100.9/385.0 MB 18.2 MB/s eta 0:00:16\n",
      "   ---------- ---------------------------- 102.0/385.0 MB 18.7 MB/s eta 0:00:16\n",
      "   ---------- ---------------------------- 102.9/385.0 MB 19.3 MB/s eta 0:00:15\n",
      "   ---------- ---------------------------- 103.9/385.0 MB 21.8 MB/s eta 0:00:13\n",
      "   ---------- ---------------------------- 105.0/385.0 MB 21.8 MB/s eta 0:00:13\n",
      "   ---------- ---------------------------- 106.0/385.0 MB 21.8 MB/s eta 0:00:13\n",
      "   ---------- ---------------------------- 106.6/385.0 MB 21.8 MB/s eta 0:00:13\n",
      "   ---------- ---------------------------- 107.4/385.0 MB 21.1 MB/s eta 0:00:14\n",
      "   ---------- ---------------------------- 108.4/385.0 MB 21.1 MB/s eta 0:00:14\n",
      "   ----------- --------------------------- 109.4/385.0 MB 21.1 MB/s eta 0:00:14\n",
      "   ----------- --------------------------- 110.3/385.0 MB 20.5 MB/s eta 0:00:14\n",
      "   ----------- --------------------------- 111.0/385.0 MB 19.8 MB/s eta 0:00:14\n",
      "   ----------- --------------------------- 111.8/385.0 MB 19.2 MB/s eta 0:00:15\n",
      "   ----------- --------------------------- 112.6/385.0 MB 18.7 MB/s eta 0:00:15\n",
      "   ----------- --------------------------- 113.4/385.0 MB 18.7 MB/s eta 0:00:15\n",
      "   ----------- --------------------------- 114.3/385.0 MB 18.2 MB/s eta 0:00:15\n",
      "   ----------- --------------------------- 114.9/385.0 MB 17.7 MB/s eta 0:00:16\n",
      "   ----------- --------------------------- 115.4/385.0 MB 17.2 MB/s eta 0:00:16\n",
      "   ----------- --------------------------- 116.0/385.0 MB 16.4 MB/s eta 0:00:17\n",
      "   ----------- --------------------------- 116.8/385.0 MB 16.4 MB/s eta 0:00:17\n",
      "   ----------- --------------------------- 117.5/385.0 MB 16.8 MB/s eta 0:00:16\n",
      "   ----------- --------------------------- 118.4/385.0 MB 16.4 MB/s eta 0:00:17\n",
      "   ------------ -------------------------- 119.2/385.0 MB 16.4 MB/s eta 0:00:17\n",
      "   ------------ -------------------------- 120.1/385.0 MB 16.4 MB/s eta 0:00:17\n",
      "   ------------ -------------------------- 120.8/385.0 MB 16.4 MB/s eta 0:00:17\n",
      "   ------------ -------------------------- 121.6/385.0 MB 16.4 MB/s eta 0:00:17\n",
      "   ------------ -------------------------- 122.1/385.0 MB 15.6 MB/s eta 0:00:17\n",
      "   ------------ -------------------------- 122.6/385.0 MB 15.6 MB/s eta 0:00:17\n",
      "   ------------ -------------------------- 123.2/385.0 MB 15.2 MB/s eta 0:00:18\n",
      "   ------------ -------------------------- 123.9/385.0 MB 14.9 MB/s eta 0:00:18\n",
      "   ------------ -------------------------- 124.6/385.0 MB 14.9 MB/s eta 0:00:18\n",
      "   ------------ -------------------------- 125.4/385.0 MB 15.2 MB/s eta 0:00:18\n",
      "   ------------ -------------------------- 126.2/385.0 MB 15.6 MB/s eta 0:00:17\n",
      "   ------------ -------------------------- 126.9/385.0 MB 15.6 MB/s eta 0:00:17\n",
      "   ------------ -------------------------- 127.8/385.0 MB 16.0 MB/s eta 0:00:17\n",
      "   ------------- ------------------------- 128.7/385.0 MB 16.0 MB/s eta 0:00:17\n",
      "   ------------- ------------------------- 129.5/385.0 MB 16.0 MB/s eta 0:00:17\n",
      "   ------------- ------------------------- 130.4/385.0 MB 16.0 MB/s eta 0:00:16\n",
      "   ------------- ------------------------- 131.3/385.0 MB 16.0 MB/s eta 0:00:16\n",
      "   ------------- ------------------------- 132.2/385.0 MB 16.8 MB/s eta 0:00:16\n",
      "   ------------- ------------------------- 133.1/385.0 MB 17.7 MB/s eta 0:00:15\n",
      "   ------------- ------------------------- 134.0/385.0 MB 18.2 MB/s eta 0:00:14\n",
      "   ------------- ------------------------- 134.9/385.0 MB 18.7 MB/s eta 0:00:14\n",
      "   ------------- ------------------------- 135.9/385.0 MB 18.7 MB/s eta 0:00:14\n",
      "   ------------- ------------------------- 136.8/385.0 MB 19.3 MB/s eta 0:00:13\n",
      "   ------------- ------------------------- 137.7/385.0 MB 19.3 MB/s eta 0:00:13\n",
      "   -------------- ------------------------ 138.8/385.0 MB 19.3 MB/s eta 0:00:13\n",
      "   -------------- ------------------------ 139.9/385.0 MB 19.8 MB/s eta 0:00:13\n",
      "   -------------- ------------------------ 140.9/385.0 MB 20.5 MB/s eta 0:00:12\n",
      "   -------------- ------------------------ 141.9/385.0 MB 21.1 MB/s eta 0:00:12\n",
      "   -------------- ------------------------ 143.0/385.0 MB 21.8 MB/s eta 0:00:12\n",
      "   -------------- ------------------------ 144.0/385.0 MB 21.8 MB/s eta 0:00:12\n",
      "   -------------- ------------------------ 144.9/385.0 MB 21.9 MB/s eta 0:00:11\n",
      "   -------------- ------------------------ 145.7/385.0 MB 21.1 MB/s eta 0:00:12\n",
      "   -------------- ------------------------ 146.5/385.0 MB 21.1 MB/s eta 0:00:12\n",
      "   -------------- ------------------------ 147.4/385.0 MB 21.1 MB/s eta 0:00:12\n",
      "   --------------- ----------------------- 148.3/385.0 MB 21.1 MB/s eta 0:00:12\n",
      "   --------------- ----------------------- 149.1/385.0 MB 20.5 MB/s eta 0:00:12\n",
      "   --------------- ----------------------- 150.0/385.0 MB 19.8 MB/s eta 0:00:12\n",
      "   --------------- ----------------------- 151.0/385.0 MB 19.8 MB/s eta 0:00:12\n",
      "   --------------- ----------------------- 151.8/385.0 MB 19.3 MB/s eta 0:00:13\n",
      "   --------------- ----------------------- 152.6/385.0 MB 19.3 MB/s eta 0:00:13\n",
      "   --------------- ----------------------- 153.5/385.0 MB 18.7 MB/s eta 0:00:13\n",
      "   --------------- ----------------------- 154.2/385.0 MB 18.2 MB/s eta 0:00:13\n",
      "   --------------- ----------------------- 155.0/385.0 MB 18.7 MB/s eta 0:00:13\n",
      "   --------------- ----------------------- 155.7/385.0 MB 17.7 MB/s eta 0:00:13\n",
      "   --------------- ----------------------- 156.3/385.0 MB 18.2 MB/s eta 0:00:13\n",
      "   --------------- ----------------------- 157.0/385.0 MB 17.7 MB/s eta 0:00:13\n",
      "   --------------- ----------------------- 157.6/385.0 MB 17.2 MB/s eta 0:00:14\n",
      "   ---------------- ---------------------- 158.1/385.0 MB 16.4 MB/s eta 0:00:14\n",
      "   ---------------- ---------------------- 158.5/385.0 MB 16.0 MB/s eta 0:00:15\n",
      "   ---------------- ---------------------- 159.1/385.0 MB 15.6 MB/s eta 0:00:15\n",
      "   ---------------- ---------------------- 159.7/385.0 MB 15.2 MB/s eta 0:00:15\n",
      "   ---------------- ---------------------- 160.4/385.0 MB 15.2 MB/s eta 0:00:15\n",
      "   ---------------- ---------------------- 161.2/385.0 MB 14.9 MB/s eta 0:00:16\n",
      "   ---------------- ---------------------- 162.0/385.0 MB 14.9 MB/s eta 0:00:16\n",
      "   ---------------- ---------------------- 162.8/385.0 MB 14.9 MB/s eta 0:00:15\n",
      "   ---------------- ---------------------- 163.8/385.0 MB 14.9 MB/s eta 0:00:15\n",
      "   ---------------- ---------------------- 164.7/385.0 MB 14.9 MB/s eta 0:00:15\n",
      "   ---------------- ---------------------- 165.3/385.0 MB 14.9 MB/s eta 0:00:15\n",
      "   ---------------- ---------------------- 166.2/385.0 MB 15.2 MB/s eta 0:00:15\n",
      "   ---------------- ---------------------- 167.2/385.0 MB 15.6 MB/s eta 0:00:14\n",
      "   ----------------- --------------------- 168.0/385.0 MB 16.4 MB/s eta 0:00:14\n",
      "   ----------------- --------------------- 168.8/385.0 MB 17.2 MB/s eta 0:00:13\n",
      "   ----------------- --------------------- 169.5/385.0 MB 17.2 MB/s eta 0:00:13\n",
      "   ----------------- --------------------- 170.2/385.0 MB 17.2 MB/s eta 0:00:13\n",
      "   ----------------- --------------------- 170.9/385.0 MB 17.2 MB/s eta 0:00:13\n",
      "   ----------------- --------------------- 171.7/385.0 MB 17.3 MB/s eta 0:00:13\n",
      "   ----------------- --------------------- 172.6/385.0 MB 17.7 MB/s eta 0:00:13\n",
      "   ----------------- --------------------- 173.5/385.0 MB 17.7 MB/s eta 0:00:12\n",
      "   ----------------- --------------------- 174.4/385.0 MB 17.7 MB/s eta 0:00:12\n",
      "   ----------------- --------------------- 175.2/385.0 MB 17.2 MB/s eta 0:00:13\n",
      "   ----------------- --------------------- 175.9/385.0 MB 17.7 MB/s eta 0:00:12\n",
      "   ----------------- --------------------- 176.8/385.0 MB 17.2 MB/s eta 0:00:13\n",
      "   ----------------- --------------------- 177.6/385.0 MB 17.7 MB/s eta 0:00:12\n",
      "   ------------------ -------------------- 178.5/385.0 MB 17.7 MB/s eta 0:00:12\n",
      "   ------------------ -------------------- 179.5/385.0 MB 17.7 MB/s eta 0:00:12\n",
      "   ------------------ -------------------- 180.3/385.0 MB 18.2 MB/s eta 0:00:12\n",
      "   ------------------ -------------------- 181.2/385.0 MB 18.7 MB/s eta 0:00:11\n",
      "   ------------------ -------------------- 182.2/385.0 MB 19.3 MB/s eta 0:00:11\n",
      "   ------------------ -------------------- 183.3/385.0 MB 19.3 MB/s eta 0:00:11\n",
      "   ------------------ -------------------- 184.1/385.0 MB 19.3 MB/s eta 0:00:11\n",
      "   ------------------ -------------------- 184.9/385.0 MB 18.7 MB/s eta 0:00:11\n",
      "   ------------------ -------------------- 185.6/385.0 MB 18.7 MB/s eta 0:00:11\n",
      "   ------------------ -------------------- 186.3/385.0 MB 18.7 MB/s eta 0:00:11\n",
      "   ------------------ -------------------- 187.1/385.0 MB 18.7 MB/s eta 0:00:11\n",
      "   ------------------- ------------------- 187.9/385.0 MB 18.7 MB/s eta 0:00:11\n",
      "   ------------------- ------------------- 188.7/385.0 MB 18.2 MB/s eta 0:00:11\n",
      "   ------------------- ------------------- 189.5/385.0 MB 18.2 MB/s eta 0:00:11\n",
      "   ------------------- ------------------- 190.2/385.0 MB 17.7 MB/s eta 0:00:12\n",
      "   ------------------- ------------------- 190.9/385.0 MB 17.2 MB/s eta 0:00:12\n",
      "   ------------------- ------------------- 191.6/385.0 MB 17.2 MB/s eta 0:00:12\n",
      "   ------------------- ------------------- 192.2/385.0 MB 16.8 MB/s eta 0:00:12\n",
      "   ------------------- ------------------- 193.0/385.0 MB 16.4 MB/s eta 0:00:12\n",
      "   ------------------- ------------------- 193.7/385.0 MB 16.0 MB/s eta 0:00:12\n",
      "   ------------------- ------------------- 194.3/385.0 MB 15.6 MB/s eta 0:00:13\n",
      "   ------------------- ------------------- 195.0/385.0 MB 15.6 MB/s eta 0:00:13\n",
      "   ------------------- ------------------- 195.7/385.0 MB 15.6 MB/s eta 0:00:13\n",
      "   ------------------- ------------------- 196.4/385.0 MB 15.2 MB/s eta 0:00:13\n",
      "   ------------------- ------------------- 197.1/385.0 MB 15.2 MB/s eta 0:00:13\n",
      "   -------------------- ------------------ 197.8/385.0 MB 15.2 MB/s eta 0:00:13\n",
      "   -------------------- ------------------ 198.5/385.0 MB 15.6 MB/s eta 0:00:12\n",
      "   -------------------- ------------------ 199.3/385.0 MB 15.2 MB/s eta 0:00:13\n",
      "   -------------------- ------------------ 200.0/385.0 MB 15.6 MB/s eta 0:00:12\n",
      "   -------------------- ------------------ 201.0/385.0 MB 15.2 MB/s eta 0:00:13\n",
      "   -------------------- ------------------ 201.9/385.0 MB 15.6 MB/s eta 0:00:12\n",
      "   -------------------- ------------------ 202.8/385.0 MB 16.0 MB/s eta 0:00:12\n",
      "   -------------------- ------------------ 203.7/385.0 MB 16.8 MB/s eta 0:00:11\n",
      "   -------------------- ------------------ 204.6/385.0 MB 17.2 MB/s eta 0:00:11\n",
      "   -------------------- ------------------ 205.6/385.0 MB 18.2 MB/s eta 0:00:10\n",
      "   -------------------- ------------------ 206.6/385.0 MB 18.7 MB/s eta 0:00:10\n",
      "   --------------------- ----------------- 207.5/385.0 MB 19.2 MB/s eta 0:00:10\n",
      "   --------------------- ----------------- 207.9/385.0 MB 18.7 MB/s eta 0:00:10\n",
      "   --------------------- ----------------- 208.4/385.0 MB 17.7 MB/s eta 0:00:10\n",
      "   --------------------- ----------------- 208.9/385.0 MB 17.3 MB/s eta 0:00:11\n",
      "   --------------------- ----------------- 209.3/385.0 MB 16.8 MB/s eta 0:00:11\n",
      "   --------------------- ----------------- 209.8/385.0 MB 16.4 MB/s eta 0:00:11\n",
      "   --------------------- ----------------- 210.4/385.0 MB 16.0 MB/s eta 0:00:11\n",
      "   --------------------- ----------------- 211.1/385.0 MB 15.6 MB/s eta 0:00:12\n",
      "   --------------------- ----------------- 211.9/385.0 MB 15.6 MB/s eta 0:00:12\n",
      "   --------------------- ----------------- 212.4/385.0 MB 15.2 MB/s eta 0:00:12\n",
      "   --------------------- ----------------- 212.9/385.0 MB 14.6 MB/s eta 0:00:12\n",
      "   --------------------- ----------------- 213.3/385.0 MB 13.9 MB/s eta 0:00:13\n",
      "   --------------------- ----------------- 213.8/385.0 MB 13.6 MB/s eta 0:00:13\n",
      "   --------------------- ----------------- 214.2/385.0 MB 13.4 MB/s eta 0:00:13\n",
      "   --------------------- ----------------- 214.5/385.0 MB 12.8 MB/s eta 0:00:14\n",
      "   --------------------- ----------------- 215.0/385.0 MB 12.4 MB/s eta 0:00:14\n",
      "   --------------------- ----------------- 215.5/385.0 MB 11.9 MB/s eta 0:00:15\n",
      "   --------------------- ----------------- 216.1/385.0 MB 11.7 MB/s eta 0:00:15\n",
      "   --------------------- ----------------- 216.7/385.0 MB 11.5 MB/s eta 0:00:15\n",
      "   ---------------------- ---------------- 217.2/385.0 MB 11.1 MB/s eta 0:00:16\n",
      "   ---------------------- ---------------- 217.8/385.0 MB 11.1 MB/s eta 0:00:16\n",
      "   ---------------------- ---------------- 218.3/385.0 MB 11.1 MB/s eta 0:00:16\n",
      "   ---------------------- ---------------- 218.8/385.0 MB 11.1 MB/s eta 0:00:15\n",
      "   ---------------------- ---------------- 219.4/385.0 MB 11.3 MB/s eta 0:00:15\n",
      "   ---------------------- ---------------- 220.0/385.0 MB 11.5 MB/s eta 0:00:15\n",
      "   ---------------------- ---------------- 220.6/385.0 MB 11.5 MB/s eta 0:00:15\n",
      "   ---------------------- ---------------- 221.2/385.0 MB 11.5 MB/s eta 0:00:15\n",
      "   ---------------------- ---------------- 221.6/385.0 MB 11.3 MB/s eta 0:00:15\n",
      "   ---------------------- ---------------- 222.2/385.0 MB 11.1 MB/s eta 0:00:15\n",
      "   ---------------------- ---------------- 222.8/385.0 MB 11.1 MB/s eta 0:00:15\n",
      "   ---------------------- ---------------- 223.5/385.0 MB 11.7 MB/s eta 0:00:14\n",
      "   ---------------------- ---------------- 224.3/385.0 MB 12.1 MB/s eta 0:00:14\n",
      "   ---------------------- ---------------- 225.0/385.0 MB 12.8 MB/s eta 0:00:13\n",
      "   ---------------------- ---------------- 225.9/385.0 MB 13.4 MB/s eta 0:00:12\n",
      "   ---------------------- ---------------- 226.7/385.0 MB 13.6 MB/s eta 0:00:12\n",
      "   ----------------------- --------------- 227.5/385.0 MB 13.9 MB/s eta 0:00:12\n",
      "   ----------------------- --------------- 228.3/385.0 MB 14.5 MB/s eta 0:00:11\n",
      "   ----------------------- --------------- 229.2/385.0 MB 14.9 MB/s eta 0:00:11\n",
      "   ----------------------- --------------- 230.1/385.0 MB 15.6 MB/s eta 0:00:10\n",
      "   ----------------------- --------------- 231.0/385.0 MB 16.0 MB/s eta 0:00:10\n",
      "   ----------------------- --------------- 231.9/385.0 MB 17.2 MB/s eta 0:00:09\n",
      "   ----------------------- --------------- 232.8/385.0 MB 17.7 MB/s eta 0:00:09\n",
      "   ----------------------- --------------- 233.7/385.0 MB 18.7 MB/s eta 0:00:09\n",
      "   ----------------------- --------------- 234.7/385.0 MB 18.7 MB/s eta 0:00:09\n",
      "   ----------------------- --------------- 235.7/385.0 MB 19.2 MB/s eta 0:00:08\n",
      "   ----------------------- --------------- 236.5/385.0 MB 19.3 MB/s eta 0:00:08\n",
      "   ------------------------ -------------- 237.4/385.0 MB 19.3 MB/s eta 0:00:08\n",
      "   ------------------------ -------------- 238.3/385.0 MB 19.9 MB/s eta 0:00:08\n",
      "   ------------------------ -------------- 239.2/385.0 MB 19.8 MB/s eta 0:00:08\n",
      "   ------------------------ -------------- 240.3/385.0 MB 19.8 MB/s eta 0:00:08\n",
      "   ------------------------ -------------- 241.3/385.0 MB 20.5 MB/s eta 0:00:08\n",
      "   ------------------------ -------------- 242.4/385.0 MB 20.5 MB/s eta 0:00:07\n",
      "   ------------------------ -------------- 243.5/385.0 MB 21.1 MB/s eta 0:00:07\n",
      "   ------------------------ -------------- 244.6/385.0 MB 21.1 MB/s eta 0:00:07\n",
      "   ------------------------ -------------- 245.8/385.0 MB 21.9 MB/s eta 0:00:07\n",
      "   ------------------------- ------------- 247.0/385.0 MB 22.6 MB/s eta 0:00:07\n",
      "   ------------------------- ------------- 248.1/385.0 MB 23.4 MB/s eta 0:00:06\n",
      "   ------------------------- ------------- 249.4/385.0 MB 24.2 MB/s eta 0:00:06\n",
      "   ------------------------- ------------- 250.6/385.0 MB 25.2 MB/s eta 0:00:06\n",
      "   ------------------------- ------------- 251.9/385.0 MB 26.2 MB/s eta 0:00:06\n",
      "   ------------------------- ------------- 253.0/385.0 MB 26.2 MB/s eta 0:00:06\n",
      "   ------------------------- ------------- 254.4/385.0 MB 27.3 MB/s eta 0:00:05\n",
      "   ------------------------- ------------- 255.7/385.0 MB 27.3 MB/s eta 0:00:05\n",
      "   -------------------------- ------------ 256.8/385.0 MB 27.3 MB/s eta 0:00:05\n",
      "   -------------------------- ------------ 258.1/385.0 MB 27.3 MB/s eta 0:00:05\n",
      "   -------------------------- ------------ 259.4/385.0 MB 27.3 MB/s eta 0:00:05\n",
      "   -------------------------- ------------ 260.7/385.0 MB 27.3 MB/s eta 0:00:05\n",
      "   -------------------------- ------------ 261.9/385.0 MB 27.3 MB/s eta 0:00:05\n",
      "   -------------------------- ------------ 263.2/385.0 MB 27.3 MB/s eta 0:00:05\n",
      "   -------------------------- ------------ 264.4/385.0 MB 27.3 MB/s eta 0:00:05\n",
      "   -------------------------- ------------ 265.7/385.0 MB 27.3 MB/s eta 0:00:05\n",
      "   --------------------------- ----------- 267.0/385.0 MB 27.3 MB/s eta 0:00:05\n",
      "   --------------------------- ----------- 268.3/385.0 MB 27.3 MB/s eta 0:00:05\n",
      "   --------------------------- ----------- 269.6/385.0 MB 27.3 MB/s eta 0:00:05\n",
      "   --------------------------- ----------- 270.9/385.0 MB 27.3 MB/s eta 0:00:05\n",
      "   --------------------------- ----------- 272.2/385.0 MB 27.3 MB/s eta 0:00:05\n",
      "   --------------------------- ----------- 273.5/385.0 MB 27.3 MB/s eta 0:00:05\n",
      "   --------------------------- ----------- 274.7/385.0 MB 27.3 MB/s eta 0:00:05\n",
      "   --------------------------- ----------- 276.0/385.0 MB 27.3 MB/s eta 0:00:04\n",
      "   ---------------------------- ---------- 277.1/385.0 MB 28.5 MB/s eta 0:00:04\n",
      "   ---------------------------- ---------- 277.9/385.0 MB 25.2 MB/s eta 0:00:05\n",
      "   ---------------------------- ---------- 278.6/385.0 MB 24.2 MB/s eta 0:00:05\n",
      "   ---------------------------- ---------- 279.4/385.0 MB 23.4 MB/s eta 0:00:05\n",
      "   ---------------------------- ---------- 280.1/385.0 MB 21.8 MB/s eta 0:00:05\n",
      "   ---------------------------- ---------- 280.9/385.0 MB 21.9 MB/s eta 0:00:05\n",
      "   ---------------------------- ---------- 281.7/385.0 MB 21.1 MB/s eta 0:00:05\n",
      "   ---------------------------- ---------- 282.6/385.0 MB 20.5 MB/s eta 0:00:06\n",
      "   ---------------------------- ---------- 283.7/385.0 MB 19.8 MB/s eta 0:00:06\n",
      "   ---------------------------- ---------- 284.7/385.0 MB 19.8 MB/s eta 0:00:06\n",
      "   ---------------------------- ---------- 285.7/385.0 MB 19.2 MB/s eta 0:00:06\n",
      "   ----------------------------- --------- 286.7/385.0 MB 19.2 MB/s eta 0:00:06\n",
      "   ----------------------------- --------- 287.7/385.0 MB 19.3 MB/s eta 0:00:06\n",
      "   ----------------------------- --------- 288.9/385.0 MB 20.5 MB/s eta 0:00:05\n",
      "   ----------------------------- --------- 290.0/385.0 MB 21.1 MB/s eta 0:00:05\n",
      "   ----------------------------- --------- 291.2/385.0 MB 22.6 MB/s eta 0:00:05\n",
      "   ----------------------------- --------- 292.3/385.0 MB 23.4 MB/s eta 0:00:04\n",
      "   ----------------------------- --------- 293.0/385.0 MB 22.6 MB/s eta 0:00:05\n",
      "   ----------------------------- --------- 294.1/385.0 MB 22.6 MB/s eta 0:00:05\n",
      "   ----------------------------- --------- 295.2/385.0 MB 22.5 MB/s eta 0:00:04\n",
      "   ----------------------------- --------- 296.0/385.0 MB 22.6 MB/s eta 0:00:04\n",
      "   ------------------------------ -------- 296.8/385.0 MB 21.9 MB/s eta 0:00:05\n",
      "   ------------------------------ -------- 297.5/385.0 MB 21.1 MB/s eta 0:00:05\n",
      "   ------------------------------ -------- 298.5/385.0 MB 21.1 MB/s eta 0:00:05\n",
      "   ------------------------------ -------- 299.4/385.0 MB 20.5 MB/s eta 0:00:05\n",
      "   ------------------------------ -------- 300.4/385.0 MB 20.5 MB/s eta 0:00:05\n",
      "   ------------------------------ -------- 301.2/385.0 MB 19.8 MB/s eta 0:00:05\n",
      "   ------------------------------ -------- 302.1/385.0 MB 19.2 MB/s eta 0:00:05\n",
      "   ------------------------------ -------- 302.9/385.0 MB 19.3 MB/s eta 0:00:05\n",
      "   ------------------------------ -------- 303.9/385.0 MB 19.8 MB/s eta 0:00:05\n",
      "   ------------------------------ -------- 305.0/385.0 MB 19.8 MB/s eta 0:00:05\n",
      "   ------------------------------ -------- 306.0/385.0 MB 19.9 MB/s eta 0:00:04\n",
      "   ------------------------------- ------- 307.1/385.0 MB 20.5 MB/s eta 0:00:04\n",
      "   ------------------------------- ------- 308.1/385.0 MB 21.1 MB/s eta 0:00:04\n",
      "   ------------------------------- ------- 309.1/385.0 MB 21.8 MB/s eta 0:00:04\n",
      "   ------------------------------- ------- 310.1/385.0 MB 21.1 MB/s eta 0:00:04\n",
      "   ------------------------------- ------- 311.1/385.0 MB 21.8 MB/s eta 0:00:04\n",
      "   ------------------------------- ------- 312.3/385.0 MB 22.6 MB/s eta 0:00:04\n",
      "   ------------------------------- ------- 313.3/385.0 MB 22.5 MB/s eta 0:00:04\n",
      "   ------------------------------- ------- 314.5/385.0 MB 23.4 MB/s eta 0:00:04\n",
      "   ------------------------------- ------- 315.6/385.0 MB 22.6 MB/s eta 0:00:04\n",
      "   -------------------------------- ------ 316.7/385.0 MB 22.6 MB/s eta 0:00:04\n",
      "   -------------------------------- ------ 317.9/385.0 MB 23.4 MB/s eta 0:00:03\n",
      "   -------------------------------- ------ 319.1/385.0 MB 24.2 MB/s eta 0:00:03\n",
      "   -------------------------------- ------ 320.3/385.0 MB 24.2 MB/s eta 0:00:03\n",
      "   -------------------------------- ------ 321.3/385.0 MB 24.2 MB/s eta 0:00:03\n",
      "   -------------------------------- ------ 322.2/385.0 MB 24.2 MB/s eta 0:00:03\n",
      "   -------------------------------- ------ 322.9/385.0 MB 22.6 MB/s eta 0:00:03\n",
      "   -------------------------------- ------ 323.7/385.0 MB 22.6 MB/s eta 0:00:03\n",
      "   -------------------------------- ------ 324.4/385.0 MB 21.1 MB/s eta 0:00:03\n",
      "   -------------------------------- ------ 325.2/385.0 MB 20.5 MB/s eta 0:00:03\n",
      "   --------------------------------- ----- 325.8/385.0 MB 20.5 MB/s eta 0:00:03\n",
      "   --------------------------------- ----- 326.6/385.0 MB 19.9 MB/s eta 0:00:03\n",
      "   --------------------------------- ----- 327.5/385.0 MB 19.3 MB/s eta 0:00:03\n",
      "   --------------------------------- ----- 328.3/385.0 MB 19.3 MB/s eta 0:00:03\n",
      "   --------------------------------- ----- 329.1/385.0 MB 18.7 MB/s eta 0:00:03\n",
      "   --------------------------------- ----- 329.8/385.0 MB 17.7 MB/s eta 0:00:04\n",
      "   --------------------------------- ----- 330.4/385.0 MB 17.2 MB/s eta 0:00:04\n",
      "   --------------------------------- ----- 330.7/385.0 MB 16.4 MB/s eta 0:00:04\n",
      "   --------------------------------- ----- 330.9/385.0 MB 15.2 MB/s eta 0:00:04\n",
      "   --------------------------------- ----- 331.5/385.0 MB 14.9 MB/s eta 0:00:04\n",
      "   --------------------------------- ----- 332.1/385.0 MB 14.6 MB/s eta 0:00:04\n",
      "   --------------------------------- ----- 332.7/385.0 MB 14.2 MB/s eta 0:00:04\n",
      "   --------------------------------- ----- 333.3/385.0 MB 13.9 MB/s eta 0:00:04\n",
      "   --------------------------------- ----- 334.0/385.0 MB 13.9 MB/s eta 0:00:04\n",
      "   --------------------------------- ----- 334.7/385.0 MB 13.9 MB/s eta 0:00:04\n",
      "   --------------------------------- ----- 335.3/385.0 MB 13.6 MB/s eta 0:00:04\n",
      "   ---------------------------------- ---- 336.2/385.0 MB 13.9 MB/s eta 0:00:04\n",
      "   ---------------------------------- ---- 337.1/385.0 MB 13.9 MB/s eta 0:00:04\n",
      "   ---------------------------------- ---- 337.9/385.0 MB 13.9 MB/s eta 0:00:04\n",
      "   ---------------------------------- ---- 338.6/385.0 MB 13.9 MB/s eta 0:00:04\n",
      "   ---------------------------------- ---- 339.3/385.0 MB 13.9 MB/s eta 0:00:04\n",
      "   ---------------------------------- ---- 340.2/385.0 MB 13.6 MB/s eta 0:00:04\n",
      "   ---------------------------------- ---- 341.0/385.0 MB 15.6 MB/s eta 0:00:03\n",
      "   ---------------------------------- ---- 341.9/385.0 MB 16.0 MB/s eta 0:00:03\n",
      "   ---------------------------------- ---- 342.9/385.0 MB 17.2 MB/s eta 0:00:03\n",
      "   ---------------------------------- ---- 343.8/385.0 MB 17.7 MB/s eta 0:00:03\n",
      "   ---------------------------------- ---- 344.7/385.0 MB 18.2 MB/s eta 0:00:03\n",
      "   ----------------------------------- --- 345.6/385.0 MB 18.7 MB/s eta 0:00:03\n",
      "   ----------------------------------- --- 346.4/385.0 MB 18.7 MB/s eta 0:00:03\n",
      "   ----------------------------------- --- 346.6/385.0 MB 17.2 MB/s eta 0:00:03\n",
      "   ----------------------------------- --- 346.7/385.0 MB 16.8 MB/s eta 0:00:03\n",
      "   ----------------------------------- --- 347.2/385.0 MB 15.6 MB/s eta 0:00:03\n",
      "   ----------------------------------- --- 348.0/385.0 MB 16.0 MB/s eta 0:00:03\n",
      "   ----------------------------------- --- 348.9/385.0 MB 16.0 MB/s eta 0:00:03\n",
      "   ----------------------------------- --- 349.6/385.0 MB 16.0 MB/s eta 0:00:03\n",
      "   ----------------------------------- --- 350.6/385.0 MB 16.0 MB/s eta 0:00:03\n",
      "   ----------------------------------- --- 351.5/385.0 MB 16.0 MB/s eta 0:00:03\n",
      "   ----------------------------------- --- 352.5/385.0 MB 16.0 MB/s eta 0:00:03\n",
      "   ----------------------------------- --- 353.5/385.0 MB 16.0 MB/s eta 0:00:02\n",
      "   ----------------------------------- --- 354.6/385.0 MB 16.4 MB/s eta 0:00:02\n",
      "   ------------------------------------ -- 355.7/385.0 MB 16.4 MB/s eta 0:00:02\n",
      "   ------------------------------------ -- 356.7/385.0 MB 17.2 MB/s eta 0:00:02\n",
      "   ------------------------------------ -- 357.9/385.0 MB 21.1 MB/s eta 0:00:02\n",
      "   ------------------------------------ -- 359.0/385.0 MB 21.1 MB/s eta 0:00:02\n",
      "   ------------------------------------ -- 360.1/385.0 MB 22.6 MB/s eta 0:00:02\n",
      "   ------------------------------------ -- 361.2/385.0 MB 23.4 MB/s eta 0:00:02\n",
      "   ------------------------------------ -- 362.4/385.0 MB 24.2 MB/s eta 0:00:01\n",
      "   ------------------------------------ -- 363.5/385.0 MB 23.4 MB/s eta 0:00:01\n",
      "   ------------------------------------ -- 364.5/385.0 MB 24.2 MB/s eta 0:00:01\n",
      "   ------------------------------------- - 365.6/385.0 MB 24.2 MB/s eta 0:00:01\n",
      "   ------------------------------------- - 366.6/385.0 MB 24.3 MB/s eta 0:00:01\n",
      "   ------------------------------------- - 367.6/385.0 MB 23.4 MB/s eta 0:00:01\n",
      "   ------------------------------------- - 368.6/385.0 MB 23.4 MB/s eta 0:00:01\n",
      "   ------------------------------------- - 369.6/385.0 MB 22.6 MB/s eta 0:00:01\n",
      "   ------------------------------------- - 370.6/385.0 MB 22.6 MB/s eta 0:00:01\n",
      "   ------------------------------------- - 371.8/385.0 MB 22.6 MB/s eta 0:00:01\n",
      "   ------------------------------------- - 373.0/385.0 MB 22.6 MB/s eta 0:00:01\n",
      "   ------------------------------------- - 374.2/385.0 MB 23.4 MB/s eta 0:00:01\n",
      "   --------------------------------------  375.4/385.0 MB 23.4 MB/s eta 0:00:01\n",
      "   --------------------------------------  376.5/385.0 MB 23.4 MB/s eta 0:00:01\n",
      "   --------------------------------------  377.7/385.0 MB 24.2 MB/s eta 0:00:01\n",
      "   --------------------------------------  378.7/385.0 MB 23.4 MB/s eta 0:00:01\n",
      "   --------------------------------------  379.9/385.0 MB 25.2 MB/s eta 0:00:01\n",
      "   --------------------------------------  381.0/385.0 MB 24.2 MB/s eta 0:00:01\n",
      "   --------------------------------------  382.0/385.0 MB 24.2 MB/s eta 0:00:01\n",
      "   --------------------------------------  383.2/385.0 MB 24.2 MB/s eta 0:00:01\n",
      "   --------------------------------------  384.2/385.0 MB 24.3 MB/s eta 0:00:01\n",
      "   --------------------------------------  385.0/385.0 MB 24.2 MB/s eta 0:00:01\n",
      "   --------------------------------------  385.0/385.0 MB 24.2 MB/s eta 0:00:01\n",
      "   --------------------------------------  385.0/385.0 MB 24.2 MB/s eta 0:00:01\n",
      "   --------------------------------------  385.0/385.0 MB 24.2 MB/s eta 0:00:01\n",
      "   --------------------------------------  385.0/385.0 MB 24.2 MB/s eta 0:00:01\n",
      "   --------------------------------------  385.0/385.0 MB 24.2 MB/s eta 0:00:01\n",
      "   --------------------------------------  385.0/385.0 MB 24.2 MB/s eta 0:00:01\n",
      "   --------------------------------------  385.0/385.0 MB 24.2 MB/s eta 0:00:01\n",
      "   --------------------------------------  385.0/385.0 MB 24.2 MB/s eta 0:00:01\n",
      "   --------------------------------------  385.0/385.0 MB 24.2 MB/s eta 0:00:01\n",
      "   --------------------------------------  385.0/385.0 MB 24.2 MB/s eta 0:00:01\n",
      "   --------------------------------------  385.0/385.0 MB 24.2 MB/s eta 0:00:01\n",
      "   --------------------------------------  385.0/385.0 MB 24.2 MB/s eta 0:00:01\n",
      "   --------------------------------------  385.0/385.0 MB 24.2 MB/s eta 0:00:01\n",
      "   --------------------------------------  385.0/385.0 MB 24.2 MB/s eta 0:00:01\n",
      "   --------------------------------------  385.0/385.0 MB 24.2 MB/s eta 0:00:01\n",
      "   --------------------------------------  385.0/385.0 MB 24.2 MB/s eta 0:00:01\n",
      "   --------------------------------------  385.0/385.0 MB 24.2 MB/s eta 0:00:01\n",
      "   --------------------------------------  385.0/385.0 MB 24.2 MB/s eta 0:00:01\n",
      "   --------------------------------------  385.0/385.0 MB 24.2 MB/s eta 0:00:01\n",
      "   --------------------------------------  385.0/385.0 MB 24.2 MB/s eta 0:00:01\n",
      "   --------------------------------------  385.0/385.0 MB 24.2 MB/s eta 0:00:01\n",
      "   --------------------------------------  385.0/385.0 MB 24.2 MB/s eta 0:00:01\n",
      "   --------------------------------------  385.0/385.0 MB 24.2 MB/s eta 0:00:01\n",
      "   --------------------------------------  385.0/385.0 MB 24.2 MB/s eta 0:00:01\n",
      "   --------------------------------------  385.0/385.0 MB 24.2 MB/s eta 0:00:01\n",
      "   --------------------------------------  385.0/385.0 MB 24.2 MB/s eta 0:00:01\n",
      "   --------------------------------------  385.0/385.0 MB 24.2 MB/s eta 0:00:01\n",
      "   --------------------------------------  385.0/385.0 MB 24.2 MB/s eta 0:00:01\n",
      "   --------------------------------------  385.0/385.0 MB 24.2 MB/s eta 0:00:01\n",
      "   --------------------------------------  385.0/385.0 MB 24.2 MB/s eta 0:00:01\n",
      "   --------------------------------------  385.0/385.0 MB 24.2 MB/s eta 0:00:01\n",
      "   --------------------------------------  385.0/385.0 MB 24.2 MB/s eta 0:00:01\n",
      "   --------------------------------------  385.0/385.0 MB 24.2 MB/s eta 0:00:01\n",
      "   --------------------------------------  385.0/385.0 MB 24.2 MB/s eta 0:00:01\n",
      "   --------------------------------------  385.0/385.0 MB 24.2 MB/s eta 0:00:01\n",
      "   --------------------------------------  385.0/385.0 MB 24.2 MB/s eta 0:00:01\n",
      "   --------------------------------------  385.0/385.0 MB 24.2 MB/s eta 0:00:01\n",
      "   --------------------------------------  385.0/385.0 MB 24.2 MB/s eta 0:00:01\n",
      "   --------------------------------------  385.0/385.0 MB 24.2 MB/s eta 0:00:01\n",
      "   --------------------------------------  385.0/385.0 MB 24.2 MB/s eta 0:00:01\n",
      "   --------------------------------------  385.0/385.0 MB 24.2 MB/s eta 0:00:01\n",
      "   --------------------------------------  385.0/385.0 MB 24.2 MB/s eta 0:00:01\n",
      "   --------------------------------------  385.0/385.0 MB 24.2 MB/s eta 0:00:01\n",
      "   --------------------------------------  385.0/385.0 MB 24.2 MB/s eta 0:00:01\n",
      "   --------------------------------------  385.0/385.0 MB 24.2 MB/s eta 0:00:01\n",
      "   --------------------------------------  385.0/385.0 MB 24.2 MB/s eta 0:00:01\n",
      "   --------------------------------------  385.0/385.0 MB 24.2 MB/s eta 0:00:01\n",
      "   --------------------------------------  385.0/385.0 MB 24.2 MB/s eta 0:00:01\n",
      "   --------------------------------------  385.0/385.0 MB 24.2 MB/s eta 0:00:01\n",
      "   --------------------------------------  385.0/385.0 MB 24.2 MB/s eta 0:00:01\n",
      "   --------------------------------------  385.0/385.0 MB 24.2 MB/s eta 0:00:01\n",
      "   --------------------------------------  385.0/385.0 MB 24.2 MB/s eta 0:00:01\n",
      "   --------------------------------------  385.0/385.0 MB 24.2 MB/s eta 0:00:01\n",
      "   --------------------------------------  385.0/385.0 MB 24.2 MB/s eta 0:00:01\n",
      "   --------------------------------------  385.0/385.0 MB 24.2 MB/s eta 0:00:01\n",
      "   --------------------------------------  385.0/385.0 MB 24.2 MB/s eta 0:00:01\n",
      "   --------------------------------------  385.0/385.0 MB 24.2 MB/s eta 0:00:01\n",
      "   --------------------------------------  385.0/385.0 MB 24.2 MB/s eta 0:00:01\n",
      "   --------------------------------------  385.0/385.0 MB 24.2 MB/s eta 0:00:01\n",
      "   --------------------------------------  385.0/385.0 MB 24.2 MB/s eta 0:00:01\n",
      "   --------------------------------------  385.0/385.0 MB 24.2 MB/s eta 0:00:01\n",
      "   --------------------------------------  385.0/385.0 MB 24.2 MB/s eta 0:00:01\n",
      "   --------------------------------------  385.0/385.0 MB 24.2 MB/s eta 0:00:01\n",
      "   --------------------------------------  385.0/385.0 MB 24.2 MB/s eta 0:00:01\n",
      "   --------------------------------------  385.0/385.0 MB 24.2 MB/s eta 0:00:01\n",
      "   --------------------------------------  385.0/385.0 MB 24.2 MB/s eta 0:00:01\n",
      "   --------------------------------------  385.0/385.0 MB 24.2 MB/s eta 0:00:01\n",
      "   --------------------------------------  385.0/385.0 MB 24.2 MB/s eta 0:00:01\n",
      "   --------------------------------------  385.0/385.0 MB 24.2 MB/s eta 0:00:01\n",
      "   --------------------------------------  385.0/385.0 MB 24.2 MB/s eta 0:00:01\n",
      "   --------------------------------------  385.0/385.0 MB 24.2 MB/s eta 0:00:01\n",
      "   --------------------------------------  385.0/385.0 MB 24.2 MB/s eta 0:00:01\n",
      "   --------------------------------------  385.0/385.0 MB 24.2 MB/s eta 0:00:01\n",
      "   --------------------------------------  385.0/385.0 MB 24.2 MB/s eta 0:00:01\n",
      "   --------------------------------------  385.0/385.0 MB 24.2 MB/s eta 0:00:01\n",
      "   --------------------------------------  385.0/385.0 MB 24.2 MB/s eta 0:00:01\n",
      "   --------------------------------------  385.0/385.0 MB 24.2 MB/s eta 0:00:01\n",
      "   --------------------------------------  385.0/385.0 MB 24.2 MB/s eta 0:00:01\n",
      "   --------------------------------------  385.0/385.0 MB 24.2 MB/s eta 0:00:01\n",
      "   --------------------------------------  385.0/385.0 MB 24.2 MB/s eta 0:00:01\n",
      "   --------------------------------------  385.0/385.0 MB 24.2 MB/s eta 0:00:01\n",
      "   --------------------------------------  385.0/385.0 MB 24.2 MB/s eta 0:00:01\n",
      "   --------------------------------------  385.0/385.0 MB 24.2 MB/s eta 0:00:01\n",
      "   --------------------------------------  385.0/385.0 MB 24.2 MB/s eta 0:00:01\n",
      "   --------------------------------------  385.0/385.0 MB 24.2 MB/s eta 0:00:01\n",
      "   --------------------------------------  385.0/385.0 MB 24.2 MB/s eta 0:00:01\n",
      "   --------------------------------------  385.0/385.0 MB 24.2 MB/s eta 0:00:01\n",
      "   --------------------------------------  385.0/385.0 MB 24.2 MB/s eta 0:00:01\n",
      "   --------------------------------------  385.0/385.0 MB 24.2 MB/s eta 0:00:01\n",
      "   --------------------------------------  385.0/385.0 MB 24.2 MB/s eta 0:00:01\n",
      "   --------------------------------------  385.0/385.0 MB 24.2 MB/s eta 0:00:01\n",
      "   --------------------------------------  385.0/385.0 MB 24.2 MB/s eta 0:00:01\n",
      "   ---------------------------------------- 385.0/385.0 MB 2.1 MB/s eta 0:00:00\n",
      "Using cached absl_py-2.1.0-py3-none-any.whl (133 kB)\n",
      "Using cached astunparse-1.6.3-py2.py3-none-any.whl (12 kB)\n",
      "Downloading flatbuffers-24.3.25-py2.py3-none-any.whl (26 kB)\n",
      "Downloading gast-0.6.0-py3-none-any.whl (21 kB)\n",
      "Using cached google_pasta-0.2.0-py3-none-any.whl (57 kB)\n",
      "Downloading grpcio-1.67.0-cp311-cp311-win_amd64.whl (4.4 MB)\n",
      "   ---------------------------------------- 0.0/4.4 MB ? eta -:--:--\n",
      "   ------- -------------------------------- 0.8/4.4 MB 24.0 MB/s eta 0:00:01\n",
      "   -------------- ------------------------- 1.6/4.4 MB 19.8 MB/s eta 0:00:01\n",
      "   ---------------------- ----------------- 2.4/4.4 MB 19.2 MB/s eta 0:00:01\n",
      "   ---------------------------- ----------- 3.1/4.4 MB 17.9 MB/s eta 0:00:01\n",
      "   ------------------------------------ --- 4.0/4.4 MB 18.1 MB/s eta 0:00:01\n",
      "   ---------------------------------------  4.4/4.4 MB 18.5 MB/s eta 0:00:01\n",
      "   ---------------------------------------- 4.4/4.4 MB 15.4 MB/s eta 0:00:00\n",
      "Downloading h5py-3.12.1-cp311-cp311-win_amd64.whl (3.0 MB)\n",
      "   ---------------------------------------- 0.0/3.0 MB ? eta -:--:--\n",
      "   ---------- ----------------------------- 0.8/3.0 MB 24.4 MB/s eta 0:00:01\n",
      "   --------------------- ------------------ 1.6/3.0 MB 20.5 MB/s eta 0:00:01\n",
      "   -------------------------------- ------- 2.5/3.0 MB 19.7 MB/s eta 0:00:01\n",
      "   ---------------------------------------  3.0/3.0 MB 19.2 MB/s eta 0:00:01\n",
      "   ---------------------------------------- 3.0/3.0 MB 15.9 MB/s eta 0:00:00\n",
      "Downloading keras-3.6.0-py3-none-any.whl (1.2 MB)\n",
      "   ---------------------------------------- 0.0/1.2 MB ? eta -:--:--\n",
      "   ----------------------------------- ---- 1.1/1.2 MB 22.2 MB/s eta 0:00:01\n",
      "   ---------------------------------------- 1.2/1.2 MB 15.1 MB/s eta 0:00:00\n",
      "Downloading libclang-18.1.1-py2.py3-none-win_amd64.whl (26.4 MB)\n",
      "   ---------------------------------------- 0.0/26.4 MB ? eta -:--:--\n",
      "   - -------------------------------------- 0.8/26.4 MB 24.1 MB/s eta 0:00:02\n",
      "   -- ------------------------------------- 1.5/26.4 MB 18.6 MB/s eta 0:00:02\n",
      "   --- ------------------------------------ 2.3/26.4 MB 18.0 MB/s eta 0:00:02\n",
      "   ---- ----------------------------------- 3.0/26.4 MB 17.6 MB/s eta 0:00:02\n",
      "   ----- ---------------------------------- 3.9/26.4 MB 17.9 MB/s eta 0:00:02\n",
      "   ------- -------------------------------- 4.6/26.4 MB 17.4 MB/s eta 0:00:02\n",
      "   ------- -------------------------------- 5.3/26.4 MB 16.8 MB/s eta 0:00:02\n",
      "   -------- ------------------------------- 5.9/26.4 MB 16.5 MB/s eta 0:00:02\n",
      "   ---------- ----------------------------- 6.7/26.4 MB 16.4 MB/s eta 0:00:02\n",
      "   ----------- ---------------------------- 7.4/26.4 MB 16.3 MB/s eta 0:00:02\n",
      "   ------------ --------------------------- 8.0/26.4 MB 16.1 MB/s eta 0:00:02\n",
      "   ------------ --------------------------- 8.5/26.4 MB 15.5 MB/s eta 0:00:02\n",
      "   ------------- -------------------------- 9.1/26.4 MB 15.3 MB/s eta 0:00:02\n",
      "   -------------- ------------------------- 9.6/26.4 MB 15.0 MB/s eta 0:00:02\n",
      "   --------------- ------------------------ 10.2/26.4 MB 14.8 MB/s eta 0:00:02\n",
      "   ---------------- ----------------------- 10.6/26.4 MB 14.2 MB/s eta 0:00:02\n",
      "   ---------------- ----------------------- 11.1/26.4 MB 13.9 MB/s eta 0:00:02\n",
      "   ----------------- ---------------------- 11.7/26.4 MB 13.6 MB/s eta 0:00:02\n",
      "   ------------------ --------------------- 12.3/26.4 MB 13.4 MB/s eta 0:00:02\n",
      "   ------------------- -------------------- 13.1/26.4 MB 13.4 MB/s eta 0:00:01\n",
      "   --------------------- ------------------ 13.9/26.4 MB 13.4 MB/s eta 0:00:01\n",
      "   ---------------------- ----------------- 14.7/26.4 MB 13.4 MB/s eta 0:00:01\n",
      "   ----------------------- ---------------- 15.5/26.4 MB 13.6 MB/s eta 0:00:01\n",
      "   ------------------------ --------------- 16.4/26.4 MB 14.2 MB/s eta 0:00:01\n",
      "   ------------------------- -------------- 17.1/26.4 MB 14.2 MB/s eta 0:00:01\n",
      "   -------------------------- ------------- 17.8/26.4 MB 13.9 MB/s eta 0:00:01\n",
      "   --------------------------- ------------ 18.5/26.4 MB 14.6 MB/s eta 0:00:01\n",
      "   ---------------------------- ----------- 19.0/26.4 MB 14.2 MB/s eta 0:00:01\n",
      "   ----------------------------- ---------- 19.6/26.4 MB 14.2 MB/s eta 0:00:01\n",
      "   ------------------------------ --------- 20.2/26.4 MB 14.6 MB/s eta 0:00:01\n",
      "   ------------------------------- -------- 21.0/26.4 MB 15.2 MB/s eta 0:00:01\n",
      "   -------------------------------- ------- 21.7/26.4 MB 15.6 MB/s eta 0:00:01\n",
      "   ---------------------------------- ----- 22.5/26.4 MB 16.0 MB/s eta 0:00:01\n",
      "   ----------------------------------- ---- 23.4/26.4 MB 16.0 MB/s eta 0:00:01\n",
      "   ------------------------------------ --- 24.2/26.4 MB 16.0 MB/s eta 0:00:01\n",
      "   ------------------------------------- -- 24.9/26.4 MB 16.0 MB/s eta 0:00:01\n",
      "   -------------------------------------- - 25.4/26.4 MB 15.6 MB/s eta 0:00:01\n",
      "   ---------------------------------------  25.8/26.4 MB 14.9 MB/s eta 0:00:01\n",
      "   ---------------------------------------  26.2/26.4 MB 14.2 MB/s eta 0:00:01\n",
      "   ---------------------------------------  26.4/26.4 MB 13.9 MB/s eta 0:00:01\n",
      "   ---------------------------------------  26.4/26.4 MB 13.9 MB/s eta 0:00:01\n",
      "   ---------------------------------------  26.4/26.4 MB 13.9 MB/s eta 0:00:01\n",
      "   ---------------------------------------- 26.4/26.4 MB 12.1 MB/s eta 0:00:00\n",
      "Downloading ml_dtypes-0.4.1-cp311-cp311-win_amd64.whl (126 kB)\n",
      "   ---------------------------------------- 0.0/126.7 kB ? eta -:--:--\n",
      "   ---------------------------------------- 126.7/126.7 kB 3.8 MB/s eta 0:00:00\n",
      "Downloading opt_einsum-3.4.0-py3-none-any.whl (71 kB)\n",
      "   ---------------------------------------- 0.0/71.9 kB ? eta -:--:--\n",
      "   ---------------------------------------- 71.9/71.9 kB 3.9 MB/s eta 0:00:00\n",
      "Downloading tensorboard-2.17.1-py3-none-any.whl (5.5 MB)\n",
      "   ---------------------------------------- 0.0/5.5 MB ? eta -:--:--\n",
      "   --- ------------------------------------ 0.5/5.5 MB 10.9 MB/s eta 0:00:01\n",
      "   ------- -------------------------------- 1.1/5.5 MB 11.5 MB/s eta 0:00:01\n",
      "   ------------ --------------------------- 1.7/5.5 MB 11.8 MB/s eta 0:00:01\n",
      "   ---------------- ----------------------- 2.2/5.5 MB 11.7 MB/s eta 0:00:01\n",
      "   -------------------- ------------------- 2.8/5.5 MB 11.9 MB/s eta 0:00:01\n",
      "   ------------------------- -------------- 3.5/5.5 MB 12.2 MB/s eta 0:00:01\n",
      "   ----------------------------- ---------- 4.1/5.5 MB 12.6 MB/s eta 0:00:01\n",
      "   ---------------------------------- ----- 4.7/5.5 MB 12.6 MB/s eta 0:00:01\n",
      "   -------------------------------------- - 5.3/5.5 MB 13.0 MB/s eta 0:00:01\n",
      "   ---------------------------------------  5.5/5.5 MB 12.5 MB/s eta 0:00:01\n",
      "   ---------------------------------------- 5.5/5.5 MB 11.0 MB/s eta 0:00:00\n",
      "Downloading tensorflow_io_gcs_filesystem-0.31.0-cp311-cp311-win_amd64.whl (1.5 MB)\n",
      "   ---------------------------------------- 0.0/1.5 MB ? eta -:--:--\n",
      "   ------ --------------------------------- 0.2/1.5 MB 4.6 MB/s eta 0:00:01\n",
      "   ------------------------ --------------- 0.9/1.5 MB 11.7 MB/s eta 0:00:01\n",
      "   ---------------------------------------  1.5/1.5 MB 11.8 MB/s eta 0:00:01\n",
      "   ---------------------------------------- 1.5/1.5 MB 8.6 MB/s eta 0:00:00\n",
      "Downloading termcolor-2.5.0-py3-none-any.whl (7.8 kB)\n",
      "Downloading wrapt-1.16.0-cp311-cp311-win_amd64.whl (37 kB)\n",
      "Downloading Markdown-3.7-py3-none-any.whl (106 kB)\n",
      "   ---------------------------------------- 0.0/106.3 kB ? eta -:--:--\n",
      "   ---------------------------------------- 106.3/106.3 kB 6.4 MB/s eta 0:00:00\n",
      "Using cached tensorboard_data_server-0.7.2-py3-none-any.whl (2.4 kB)\n",
      "Downloading werkzeug-3.0.4-py3-none-any.whl (227 kB)\n",
      "   ---------------------------------------- 0.0/227.6 kB ? eta -:--:--\n",
      "   --------------------------------------  225.3/227.6 kB 13.4 MB/s eta 0:00:01\n",
      "   ---------------------------------------- 227.6/227.6 kB 4.6 MB/s eta 0:00:00\n",
      "Using cached namex-0.0.8-py3-none-any.whl (5.8 kB)\n",
      "Downloading optree-0.13.0-cp311-cp311-win_amd64.whl (283 kB)\n",
      "   ---------------------------------------- 0.0/283.7 kB ? eta -:--:--\n",
      "   --------------------------------------  276.5/283.7 kB 17.7 MB/s eta 0:00:01\n",
      "   ---------------------------------------- 283.7/283.7 kB 5.9 MB/s eta 0:00:00\n",
      "Installing collected packages: namex, libclang, flatbuffers, wrapt, werkzeug, termcolor, tensorflow-io-gcs-filesystem, tensorboard-data-server, optree, opt-einsum, ml-dtypes, markdown, h5py, grpcio, google-pasta, gast, astunparse, absl-py, tensorboard, keras, tensorflow-intel, tensorflow\n",
      "Successfully installed absl-py-2.1.0 astunparse-1.6.3 flatbuffers-24.3.25 gast-0.6.0 google-pasta-0.2.0 grpcio-1.67.0 h5py-3.12.1 keras-3.6.0 libclang-18.1.1 markdown-3.7 ml-dtypes-0.4.1 namex-0.0.8 opt-einsum-3.4.0 optree-0.13.0 tensorboard-2.17.1 tensorboard-data-server-0.7.2 tensorflow-2.17.0 tensorflow-intel-2.17.0 tensorflow-io-gcs-filesystem-0.31.0 termcolor-2.5.0 werkzeug-3.0.4 wrapt-1.16.0\n",
      "Note: you may need to restart the kernel to use updated packages.\n"
     ]
    }
   ],
   "source": [
    "%pip install tensorflow"
   ]
  },
  {
   "cell_type": "code",
   "execution_count": 43,
   "metadata": {},
   "outputs": [],
   "source": [
    "import tensorflow as tf"
   ]
  },
  {
   "cell_type": "code",
   "execution_count": 44,
   "metadata": {},
   "outputs": [
    {
     "data": {
      "text/plain": [
       "(16640, 7)"
      ]
     },
     "execution_count": 44,
     "metadata": {},
     "output_type": "execute_result"
    }
   ],
   "source": [
    "n_features = X_train.shape[-1]\n",
    "n_outputs = y_train.shape[-1]\n",
    "n_features, n_outputs"
   ]
  },
  {
   "cell_type": "code",
   "execution_count": 45,
   "metadata": {},
   "outputs": [
    {
     "name": "stderr",
     "output_type": "stream",
     "text": [
      "c:\\Users\\akshi\\anaconda3\\envs\\pytorch\\Lib\\site-packages\\keras\\src\\layers\\convolutional\\base_conv.py:107: UserWarning: Do not pass an `input_shape`/`input_dim` argument to a layer. When using Sequential models, prefer using an `Input(shape)` object as the first layer in the model instead.\n",
      "  super().__init__(activity_regularizer=activity_regularizer, **kwargs)\n"
     ]
    }
   ],
   "source": [
    "model_simple = tf.keras.Sequential([\n",
    "    tf.keras.layers.Conv1D(256, 5, activation = \"relu\", input_shape = (n_features, 1)),\n",
    "    tf.keras.layers.MaxPool1D(pool_size = 5, strides = 2),\n",
    "    tf.keras.layers.Dropout(0.3),\n",
    "    \n",
    "    tf.keras.layers.Conv1D(256, 5, activation = \"relu\"),\n",
    "    tf.keras.layers.MaxPool1D(pool_size = 5, strides = 2),\n",
    "    tf.keras.layers.Dropout(0.2),\n",
    "    \n",
    "    tf.keras.layers.Conv1D(128, 5, activation = \"relu\", input_shape = (n_features, 1)),\n",
    "    tf.keras.layers.MaxPool1D(pool_size = 5, strides = 2, padding = \"same\"),\n",
    "    tf.keras.layers.Dropout(0.2),\n",
    "    \n",
    "    tf.keras.layers.Conv1D(128, 5, activation = \"relu\", input_shape = (n_features, 1)),\n",
    "    tf.keras.layers.MaxPool1D(pool_size = 5, strides = 2, padding = \"same\"),\n",
    "    tf.keras.layers.Dropout(0.2),\n",
    "    \n",
    "    tf.keras.layers.Conv1D(64, 5, activation = \"relu\", input_shape = (n_features, 1)),\n",
    "    tf.keras.layers.MaxPool1D(pool_size = 5, strides = 2, padding = \"same\"),\n",
    "    tf.keras.layers.Dropout(0.2),\n",
    "    \n",
    "    tf.keras.layers.Conv1D(64, 5, activation = \"relu\", input_shape = (n_features, 1)),\n",
    "    tf.keras.layers.MaxPool1D(pool_size = 5, strides = 2),\n",
    "    tf.keras.layers.Dropout(0.2),\n",
    "    \n",
    "    tf.keras.layers.Conv1D(32, 5, activation = \"relu\", input_shape = (n_features, 1)),\n",
    "    tf.keras.layers.MaxPool1D(pool_size = 5, strides = 2),\n",
    "    tf.keras.layers.Dropout(0.1),\n",
    "    \n",
    "    tf.keras.layers.Flatten(),\n",
    "    tf.keras.layers.Dense(n_outputs, activation = \"softmax\") #output layer\n",
    "])"
   ]
  },
  {
   "cell_type": "code",
   "execution_count": 46,
   "metadata": {},
   "outputs": [
    {
     "data": {
      "text/html": [
       "<pre style=\"white-space:pre;overflow-x:auto;line-height:normal;font-family:Menlo,'DejaVu Sans Mono',consolas,'Courier New',monospace\"><span style=\"font-weight: bold\">Model: \"sequential\"</span>\n",
       "</pre>\n"
      ],
      "text/plain": [
       "\u001b[1mModel: \"sequential\"\u001b[0m\n"
      ]
     },
     "metadata": {},
     "output_type": "display_data"
    },
    {
     "data": {
      "text/html": [
       "<pre style=\"white-space:pre;overflow-x:auto;line-height:normal;font-family:Menlo,'DejaVu Sans Mono',consolas,'Courier New',monospace\">┏━━━━━━━━━━━━━━━━━━━━━━━━━━━━━━━━━┳━━━━━━━━━━━━━━━━━━━━━━━━┳━━━━━━━━━━━━━━━┓\n",
       "┃<span style=\"font-weight: bold\"> Layer (type)                    </span>┃<span style=\"font-weight: bold\"> Output Shape           </span>┃<span style=\"font-weight: bold\">       Param # </span>┃\n",
       "┡━━━━━━━━━━━━━━━━━━━━━━━━━━━━━━━━━╇━━━━━━━━━━━━━━━━━━━━━━━━╇━━━━━━━━━━━━━━━┩\n",
       "│ conv1d (<span style=\"color: #0087ff; text-decoration-color: #0087ff\">Conv1D</span>)                 │ (<span style=\"color: #00d7ff; text-decoration-color: #00d7ff\">None</span>, <span style=\"color: #00af00; text-decoration-color: #00af00\">16636</span>, <span style=\"color: #00af00; text-decoration-color: #00af00\">256</span>)     │         <span style=\"color: #00af00; text-decoration-color: #00af00\">1,536</span> │\n",
       "├─────────────────────────────────┼────────────────────────┼───────────────┤\n",
       "│ max_pooling1d (<span style=\"color: #0087ff; text-decoration-color: #0087ff\">MaxPooling1D</span>)    │ (<span style=\"color: #00d7ff; text-decoration-color: #00d7ff\">None</span>, <span style=\"color: #00af00; text-decoration-color: #00af00\">8316</span>, <span style=\"color: #00af00; text-decoration-color: #00af00\">256</span>)      │             <span style=\"color: #00af00; text-decoration-color: #00af00\">0</span> │\n",
       "├─────────────────────────────────┼────────────────────────┼───────────────┤\n",
       "│ dropout (<span style=\"color: #0087ff; text-decoration-color: #0087ff\">Dropout</span>)               │ (<span style=\"color: #00d7ff; text-decoration-color: #00d7ff\">None</span>, <span style=\"color: #00af00; text-decoration-color: #00af00\">8316</span>, <span style=\"color: #00af00; text-decoration-color: #00af00\">256</span>)      │             <span style=\"color: #00af00; text-decoration-color: #00af00\">0</span> │\n",
       "├─────────────────────────────────┼────────────────────────┼───────────────┤\n",
       "│ conv1d_1 (<span style=\"color: #0087ff; text-decoration-color: #0087ff\">Conv1D</span>)               │ (<span style=\"color: #00d7ff; text-decoration-color: #00d7ff\">None</span>, <span style=\"color: #00af00; text-decoration-color: #00af00\">8312</span>, <span style=\"color: #00af00; text-decoration-color: #00af00\">256</span>)      │       <span style=\"color: #00af00; text-decoration-color: #00af00\">327,936</span> │\n",
       "├─────────────────────────────────┼────────────────────────┼───────────────┤\n",
       "│ max_pooling1d_1 (<span style=\"color: #0087ff; text-decoration-color: #0087ff\">MaxPooling1D</span>)  │ (<span style=\"color: #00d7ff; text-decoration-color: #00d7ff\">None</span>, <span style=\"color: #00af00; text-decoration-color: #00af00\">4154</span>, <span style=\"color: #00af00; text-decoration-color: #00af00\">256</span>)      │             <span style=\"color: #00af00; text-decoration-color: #00af00\">0</span> │\n",
       "├─────────────────────────────────┼────────────────────────┼───────────────┤\n",
       "│ dropout_1 (<span style=\"color: #0087ff; text-decoration-color: #0087ff\">Dropout</span>)             │ (<span style=\"color: #00d7ff; text-decoration-color: #00d7ff\">None</span>, <span style=\"color: #00af00; text-decoration-color: #00af00\">4154</span>, <span style=\"color: #00af00; text-decoration-color: #00af00\">256</span>)      │             <span style=\"color: #00af00; text-decoration-color: #00af00\">0</span> │\n",
       "├─────────────────────────────────┼────────────────────────┼───────────────┤\n",
       "│ conv1d_2 (<span style=\"color: #0087ff; text-decoration-color: #0087ff\">Conv1D</span>)               │ (<span style=\"color: #00d7ff; text-decoration-color: #00d7ff\">None</span>, <span style=\"color: #00af00; text-decoration-color: #00af00\">4150</span>, <span style=\"color: #00af00; text-decoration-color: #00af00\">128</span>)      │       <span style=\"color: #00af00; text-decoration-color: #00af00\">163,968</span> │\n",
       "├─────────────────────────────────┼────────────────────────┼───────────────┤\n",
       "│ max_pooling1d_2 (<span style=\"color: #0087ff; text-decoration-color: #0087ff\">MaxPooling1D</span>)  │ (<span style=\"color: #00d7ff; text-decoration-color: #00d7ff\">None</span>, <span style=\"color: #00af00; text-decoration-color: #00af00\">2075</span>, <span style=\"color: #00af00; text-decoration-color: #00af00\">128</span>)      │             <span style=\"color: #00af00; text-decoration-color: #00af00\">0</span> │\n",
       "├─────────────────────────────────┼────────────────────────┼───────────────┤\n",
       "│ dropout_2 (<span style=\"color: #0087ff; text-decoration-color: #0087ff\">Dropout</span>)             │ (<span style=\"color: #00d7ff; text-decoration-color: #00d7ff\">None</span>, <span style=\"color: #00af00; text-decoration-color: #00af00\">2075</span>, <span style=\"color: #00af00; text-decoration-color: #00af00\">128</span>)      │             <span style=\"color: #00af00; text-decoration-color: #00af00\">0</span> │\n",
       "├─────────────────────────────────┼────────────────────────┼───────────────┤\n",
       "│ conv1d_3 (<span style=\"color: #0087ff; text-decoration-color: #0087ff\">Conv1D</span>)               │ (<span style=\"color: #00d7ff; text-decoration-color: #00d7ff\">None</span>, <span style=\"color: #00af00; text-decoration-color: #00af00\">2071</span>, <span style=\"color: #00af00; text-decoration-color: #00af00\">128</span>)      │        <span style=\"color: #00af00; text-decoration-color: #00af00\">82,048</span> │\n",
       "├─────────────────────────────────┼────────────────────────┼───────────────┤\n",
       "│ max_pooling1d_3 (<span style=\"color: #0087ff; text-decoration-color: #0087ff\">MaxPooling1D</span>)  │ (<span style=\"color: #00d7ff; text-decoration-color: #00d7ff\">None</span>, <span style=\"color: #00af00; text-decoration-color: #00af00\">1036</span>, <span style=\"color: #00af00; text-decoration-color: #00af00\">128</span>)      │             <span style=\"color: #00af00; text-decoration-color: #00af00\">0</span> │\n",
       "├─────────────────────────────────┼────────────────────────┼───────────────┤\n",
       "│ dropout_3 (<span style=\"color: #0087ff; text-decoration-color: #0087ff\">Dropout</span>)             │ (<span style=\"color: #00d7ff; text-decoration-color: #00d7ff\">None</span>, <span style=\"color: #00af00; text-decoration-color: #00af00\">1036</span>, <span style=\"color: #00af00; text-decoration-color: #00af00\">128</span>)      │             <span style=\"color: #00af00; text-decoration-color: #00af00\">0</span> │\n",
       "├─────────────────────────────────┼────────────────────────┼───────────────┤\n",
       "│ conv1d_4 (<span style=\"color: #0087ff; text-decoration-color: #0087ff\">Conv1D</span>)               │ (<span style=\"color: #00d7ff; text-decoration-color: #00d7ff\">None</span>, <span style=\"color: #00af00; text-decoration-color: #00af00\">1032</span>, <span style=\"color: #00af00; text-decoration-color: #00af00\">64</span>)       │        <span style=\"color: #00af00; text-decoration-color: #00af00\">41,024</span> │\n",
       "├─────────────────────────────────┼────────────────────────┼───────────────┤\n",
       "│ max_pooling1d_4 (<span style=\"color: #0087ff; text-decoration-color: #0087ff\">MaxPooling1D</span>)  │ (<span style=\"color: #00d7ff; text-decoration-color: #00d7ff\">None</span>, <span style=\"color: #00af00; text-decoration-color: #00af00\">516</span>, <span style=\"color: #00af00; text-decoration-color: #00af00\">64</span>)        │             <span style=\"color: #00af00; text-decoration-color: #00af00\">0</span> │\n",
       "├─────────────────────────────────┼────────────────────────┼───────────────┤\n",
       "│ dropout_4 (<span style=\"color: #0087ff; text-decoration-color: #0087ff\">Dropout</span>)             │ (<span style=\"color: #00d7ff; text-decoration-color: #00d7ff\">None</span>, <span style=\"color: #00af00; text-decoration-color: #00af00\">516</span>, <span style=\"color: #00af00; text-decoration-color: #00af00\">64</span>)        │             <span style=\"color: #00af00; text-decoration-color: #00af00\">0</span> │\n",
       "├─────────────────────────────────┼────────────────────────┼───────────────┤\n",
       "│ conv1d_5 (<span style=\"color: #0087ff; text-decoration-color: #0087ff\">Conv1D</span>)               │ (<span style=\"color: #00d7ff; text-decoration-color: #00d7ff\">None</span>, <span style=\"color: #00af00; text-decoration-color: #00af00\">512</span>, <span style=\"color: #00af00; text-decoration-color: #00af00\">64</span>)        │        <span style=\"color: #00af00; text-decoration-color: #00af00\">20,544</span> │\n",
       "├─────────────────────────────────┼────────────────────────┼───────────────┤\n",
       "│ max_pooling1d_5 (<span style=\"color: #0087ff; text-decoration-color: #0087ff\">MaxPooling1D</span>)  │ (<span style=\"color: #00d7ff; text-decoration-color: #00d7ff\">None</span>, <span style=\"color: #00af00; text-decoration-color: #00af00\">254</span>, <span style=\"color: #00af00; text-decoration-color: #00af00\">64</span>)        │             <span style=\"color: #00af00; text-decoration-color: #00af00\">0</span> │\n",
       "├─────────────────────────────────┼────────────────────────┼───────────────┤\n",
       "│ dropout_5 (<span style=\"color: #0087ff; text-decoration-color: #0087ff\">Dropout</span>)             │ (<span style=\"color: #00d7ff; text-decoration-color: #00d7ff\">None</span>, <span style=\"color: #00af00; text-decoration-color: #00af00\">254</span>, <span style=\"color: #00af00; text-decoration-color: #00af00\">64</span>)        │             <span style=\"color: #00af00; text-decoration-color: #00af00\">0</span> │\n",
       "├─────────────────────────────────┼────────────────────────┼───────────────┤\n",
       "│ conv1d_6 (<span style=\"color: #0087ff; text-decoration-color: #0087ff\">Conv1D</span>)               │ (<span style=\"color: #00d7ff; text-decoration-color: #00d7ff\">None</span>, <span style=\"color: #00af00; text-decoration-color: #00af00\">250</span>, <span style=\"color: #00af00; text-decoration-color: #00af00\">32</span>)        │        <span style=\"color: #00af00; text-decoration-color: #00af00\">10,272</span> │\n",
       "├─────────────────────────────────┼────────────────────────┼───────────────┤\n",
       "│ max_pooling1d_6 (<span style=\"color: #0087ff; text-decoration-color: #0087ff\">MaxPooling1D</span>)  │ (<span style=\"color: #00d7ff; text-decoration-color: #00d7ff\">None</span>, <span style=\"color: #00af00; text-decoration-color: #00af00\">123</span>, <span style=\"color: #00af00; text-decoration-color: #00af00\">32</span>)        │             <span style=\"color: #00af00; text-decoration-color: #00af00\">0</span> │\n",
       "├─────────────────────────────────┼────────────────────────┼───────────────┤\n",
       "│ dropout_6 (<span style=\"color: #0087ff; text-decoration-color: #0087ff\">Dropout</span>)             │ (<span style=\"color: #00d7ff; text-decoration-color: #00d7ff\">None</span>, <span style=\"color: #00af00; text-decoration-color: #00af00\">123</span>, <span style=\"color: #00af00; text-decoration-color: #00af00\">32</span>)        │             <span style=\"color: #00af00; text-decoration-color: #00af00\">0</span> │\n",
       "├─────────────────────────────────┼────────────────────────┼───────────────┤\n",
       "│ flatten (<span style=\"color: #0087ff; text-decoration-color: #0087ff\">Flatten</span>)               │ (<span style=\"color: #00d7ff; text-decoration-color: #00d7ff\">None</span>, <span style=\"color: #00af00; text-decoration-color: #00af00\">3936</span>)           │             <span style=\"color: #00af00; text-decoration-color: #00af00\">0</span> │\n",
       "├─────────────────────────────────┼────────────────────────┼───────────────┤\n",
       "│ dense (<span style=\"color: #0087ff; text-decoration-color: #0087ff\">Dense</span>)                   │ (<span style=\"color: #00d7ff; text-decoration-color: #00d7ff\">None</span>, <span style=\"color: #00af00; text-decoration-color: #00af00\">7</span>)              │        <span style=\"color: #00af00; text-decoration-color: #00af00\">27,559</span> │\n",
       "└─────────────────────────────────┴────────────────────────┴───────────────┘\n",
       "</pre>\n"
      ],
      "text/plain": [
       "┏━━━━━━━━━━━━━━━━━━━━━━━━━━━━━━━━━┳━━━━━━━━━━━━━━━━━━━━━━━━┳━━━━━━━━━━━━━━━┓\n",
       "┃\u001b[1m \u001b[0m\u001b[1mLayer (type)                   \u001b[0m\u001b[1m \u001b[0m┃\u001b[1m \u001b[0m\u001b[1mOutput Shape          \u001b[0m\u001b[1m \u001b[0m┃\u001b[1m \u001b[0m\u001b[1m      Param #\u001b[0m\u001b[1m \u001b[0m┃\n",
       "┡━━━━━━━━━━━━━━━━━━━━━━━━━━━━━━━━━╇━━━━━━━━━━━━━━━━━━━━━━━━╇━━━━━━━━━━━━━━━┩\n",
       "│ conv1d (\u001b[38;5;33mConv1D\u001b[0m)                 │ (\u001b[38;5;45mNone\u001b[0m, \u001b[38;5;34m16636\u001b[0m, \u001b[38;5;34m256\u001b[0m)     │         \u001b[38;5;34m1,536\u001b[0m │\n",
       "├─────────────────────────────────┼────────────────────────┼───────────────┤\n",
       "│ max_pooling1d (\u001b[38;5;33mMaxPooling1D\u001b[0m)    │ (\u001b[38;5;45mNone\u001b[0m, \u001b[38;5;34m8316\u001b[0m, \u001b[38;5;34m256\u001b[0m)      │             \u001b[38;5;34m0\u001b[0m │\n",
       "├─────────────────────────────────┼────────────────────────┼───────────────┤\n",
       "│ dropout (\u001b[38;5;33mDropout\u001b[0m)               │ (\u001b[38;5;45mNone\u001b[0m, \u001b[38;5;34m8316\u001b[0m, \u001b[38;5;34m256\u001b[0m)      │             \u001b[38;5;34m0\u001b[0m │\n",
       "├─────────────────────────────────┼────────────────────────┼───────────────┤\n",
       "│ conv1d_1 (\u001b[38;5;33mConv1D\u001b[0m)               │ (\u001b[38;5;45mNone\u001b[0m, \u001b[38;5;34m8312\u001b[0m, \u001b[38;5;34m256\u001b[0m)      │       \u001b[38;5;34m327,936\u001b[0m │\n",
       "├─────────────────────────────────┼────────────────────────┼───────────────┤\n",
       "│ max_pooling1d_1 (\u001b[38;5;33mMaxPooling1D\u001b[0m)  │ (\u001b[38;5;45mNone\u001b[0m, \u001b[38;5;34m4154\u001b[0m, \u001b[38;5;34m256\u001b[0m)      │             \u001b[38;5;34m0\u001b[0m │\n",
       "├─────────────────────────────────┼────────────────────────┼───────────────┤\n",
       "│ dropout_1 (\u001b[38;5;33mDropout\u001b[0m)             │ (\u001b[38;5;45mNone\u001b[0m, \u001b[38;5;34m4154\u001b[0m, \u001b[38;5;34m256\u001b[0m)      │             \u001b[38;5;34m0\u001b[0m │\n",
       "├─────────────────────────────────┼────────────────────────┼───────────────┤\n",
       "│ conv1d_2 (\u001b[38;5;33mConv1D\u001b[0m)               │ (\u001b[38;5;45mNone\u001b[0m, \u001b[38;5;34m4150\u001b[0m, \u001b[38;5;34m128\u001b[0m)      │       \u001b[38;5;34m163,968\u001b[0m │\n",
       "├─────────────────────────────────┼────────────────────────┼───────────────┤\n",
       "│ max_pooling1d_2 (\u001b[38;5;33mMaxPooling1D\u001b[0m)  │ (\u001b[38;5;45mNone\u001b[0m, \u001b[38;5;34m2075\u001b[0m, \u001b[38;5;34m128\u001b[0m)      │             \u001b[38;5;34m0\u001b[0m │\n",
       "├─────────────────────────────────┼────────────────────────┼───────────────┤\n",
       "│ dropout_2 (\u001b[38;5;33mDropout\u001b[0m)             │ (\u001b[38;5;45mNone\u001b[0m, \u001b[38;5;34m2075\u001b[0m, \u001b[38;5;34m128\u001b[0m)      │             \u001b[38;5;34m0\u001b[0m │\n",
       "├─────────────────────────────────┼────────────────────────┼───────────────┤\n",
       "│ conv1d_3 (\u001b[38;5;33mConv1D\u001b[0m)               │ (\u001b[38;5;45mNone\u001b[0m, \u001b[38;5;34m2071\u001b[0m, \u001b[38;5;34m128\u001b[0m)      │        \u001b[38;5;34m82,048\u001b[0m │\n",
       "├─────────────────────────────────┼────────────────────────┼───────────────┤\n",
       "│ max_pooling1d_3 (\u001b[38;5;33mMaxPooling1D\u001b[0m)  │ (\u001b[38;5;45mNone\u001b[0m, \u001b[38;5;34m1036\u001b[0m, \u001b[38;5;34m128\u001b[0m)      │             \u001b[38;5;34m0\u001b[0m │\n",
       "├─────────────────────────────────┼────────────────────────┼───────────────┤\n",
       "│ dropout_3 (\u001b[38;5;33mDropout\u001b[0m)             │ (\u001b[38;5;45mNone\u001b[0m, \u001b[38;5;34m1036\u001b[0m, \u001b[38;5;34m128\u001b[0m)      │             \u001b[38;5;34m0\u001b[0m │\n",
       "├─────────────────────────────────┼────────────────────────┼───────────────┤\n",
       "│ conv1d_4 (\u001b[38;5;33mConv1D\u001b[0m)               │ (\u001b[38;5;45mNone\u001b[0m, \u001b[38;5;34m1032\u001b[0m, \u001b[38;5;34m64\u001b[0m)       │        \u001b[38;5;34m41,024\u001b[0m │\n",
       "├─────────────────────────────────┼────────────────────────┼───────────────┤\n",
       "│ max_pooling1d_4 (\u001b[38;5;33mMaxPooling1D\u001b[0m)  │ (\u001b[38;5;45mNone\u001b[0m, \u001b[38;5;34m516\u001b[0m, \u001b[38;5;34m64\u001b[0m)        │             \u001b[38;5;34m0\u001b[0m │\n",
       "├─────────────────────────────────┼────────────────────────┼───────────────┤\n",
       "│ dropout_4 (\u001b[38;5;33mDropout\u001b[0m)             │ (\u001b[38;5;45mNone\u001b[0m, \u001b[38;5;34m516\u001b[0m, \u001b[38;5;34m64\u001b[0m)        │             \u001b[38;5;34m0\u001b[0m │\n",
       "├─────────────────────────────────┼────────────────────────┼───────────────┤\n",
       "│ conv1d_5 (\u001b[38;5;33mConv1D\u001b[0m)               │ (\u001b[38;5;45mNone\u001b[0m, \u001b[38;5;34m512\u001b[0m, \u001b[38;5;34m64\u001b[0m)        │        \u001b[38;5;34m20,544\u001b[0m │\n",
       "├─────────────────────────────────┼────────────────────────┼───────────────┤\n",
       "│ max_pooling1d_5 (\u001b[38;5;33mMaxPooling1D\u001b[0m)  │ (\u001b[38;5;45mNone\u001b[0m, \u001b[38;5;34m254\u001b[0m, \u001b[38;5;34m64\u001b[0m)        │             \u001b[38;5;34m0\u001b[0m │\n",
       "├─────────────────────────────────┼────────────────────────┼───────────────┤\n",
       "│ dropout_5 (\u001b[38;5;33mDropout\u001b[0m)             │ (\u001b[38;5;45mNone\u001b[0m, \u001b[38;5;34m254\u001b[0m, \u001b[38;5;34m64\u001b[0m)        │             \u001b[38;5;34m0\u001b[0m │\n",
       "├─────────────────────────────────┼────────────────────────┼───────────────┤\n",
       "│ conv1d_6 (\u001b[38;5;33mConv1D\u001b[0m)               │ (\u001b[38;5;45mNone\u001b[0m, \u001b[38;5;34m250\u001b[0m, \u001b[38;5;34m32\u001b[0m)        │        \u001b[38;5;34m10,272\u001b[0m │\n",
       "├─────────────────────────────────┼────────────────────────┼───────────────┤\n",
       "│ max_pooling1d_6 (\u001b[38;5;33mMaxPooling1D\u001b[0m)  │ (\u001b[38;5;45mNone\u001b[0m, \u001b[38;5;34m123\u001b[0m, \u001b[38;5;34m32\u001b[0m)        │             \u001b[38;5;34m0\u001b[0m │\n",
       "├─────────────────────────────────┼────────────────────────┼───────────────┤\n",
       "│ dropout_6 (\u001b[38;5;33mDropout\u001b[0m)             │ (\u001b[38;5;45mNone\u001b[0m, \u001b[38;5;34m123\u001b[0m, \u001b[38;5;34m32\u001b[0m)        │             \u001b[38;5;34m0\u001b[0m │\n",
       "├─────────────────────────────────┼────────────────────────┼───────────────┤\n",
       "│ flatten (\u001b[38;5;33mFlatten\u001b[0m)               │ (\u001b[38;5;45mNone\u001b[0m, \u001b[38;5;34m3936\u001b[0m)           │             \u001b[38;5;34m0\u001b[0m │\n",
       "├─────────────────────────────────┼────────────────────────┼───────────────┤\n",
       "│ dense (\u001b[38;5;33mDense\u001b[0m)                   │ (\u001b[38;5;45mNone\u001b[0m, \u001b[38;5;34m7\u001b[0m)              │        \u001b[38;5;34m27,559\u001b[0m │\n",
       "└─────────────────────────────────┴────────────────────────┴───────────────┘\n"
      ]
     },
     "metadata": {},
     "output_type": "display_data"
    },
    {
     "data": {
      "text/html": [
       "<pre style=\"white-space:pre;overflow-x:auto;line-height:normal;font-family:Menlo,'DejaVu Sans Mono',consolas,'Courier New',monospace\"><span style=\"font-weight: bold\"> Total params: </span><span style=\"color: #00af00; text-decoration-color: #00af00\">674,887</span> (2.57 MB)\n",
       "</pre>\n"
      ],
      "text/plain": [
       "\u001b[1m Total params: \u001b[0m\u001b[38;5;34m674,887\u001b[0m (2.57 MB)\n"
      ]
     },
     "metadata": {},
     "output_type": "display_data"
    },
    {
     "data": {
      "text/html": [
       "<pre style=\"white-space:pre;overflow-x:auto;line-height:normal;font-family:Menlo,'DejaVu Sans Mono',consolas,'Courier New',monospace\"><span style=\"font-weight: bold\"> Trainable params: </span><span style=\"color: #00af00; text-decoration-color: #00af00\">674,887</span> (2.57 MB)\n",
       "</pre>\n"
      ],
      "text/plain": [
       "\u001b[1m Trainable params: \u001b[0m\u001b[38;5;34m674,887\u001b[0m (2.57 MB)\n"
      ]
     },
     "metadata": {},
     "output_type": "display_data"
    },
    {
     "data": {
      "text/html": [
       "<pre style=\"white-space:pre;overflow-x:auto;line-height:normal;font-family:Menlo,'DejaVu Sans Mono',consolas,'Courier New',monospace\"><span style=\"font-weight: bold\"> Non-trainable params: </span><span style=\"color: #00af00; text-decoration-color: #00af00\">0</span> (0.00 B)\n",
       "</pre>\n"
      ],
      "text/plain": [
       "\u001b[1m Non-trainable params: \u001b[0m\u001b[38;5;34m0\u001b[0m (0.00 B)\n"
      ]
     },
     "metadata": {},
     "output_type": "display_data"
    }
   ],
   "source": [
    "model_simple.summary()"
   ]
  },
  {
   "cell_type": "code",
   "execution_count": 47,
   "metadata": {},
   "outputs": [],
   "source": [
    "model_simple.compile(\n",
    "    optimizer = \"adam\",\n",
    "    loss = tf.keras.losses.CategoricalCrossentropy(),\n",
    "    metrics = [\"accuracy\"]\n",
    ")"
   ]
  },
  {
   "cell_type": "code",
   "execution_count": 48,
   "metadata": {},
   "outputs": [],
   "source": [
    "model_attempt = 1"
   ]
  },
  {
   "cell_type": "code",
   "execution_count": 53,
   "metadata": {},
   "outputs": [],
   "source": [
    "val_callback = tf.keras.callbacks.EarlyStopping(\n",
    "    monitor = \"val_accuracy\",\n",
    "    min_delta = 0.1,\n",
    "    patience = 6,\n",
    "    verbose = 1,\n",
    "    restore_best_weights = True\n",
    ")\n",
    "checkpoint_path = \"C:/Users/akshi/Downloads/EmDet/EmDet/working/ACCURACY{val_accuracy}.keras\"\n",
    "checkpoint = tf.keras.callbacks.ModelCheckpoint(\n",
    "    checkpoint_path,\n",
    "    monitor = \"val_accuracy\",\n",
    "    verbose = 1,\n",
    "    save_freq = \"epoch\"\n",
    ")"
   ]
  },
  {
   "cell_type": "code",
   "execution_count": 54,
   "metadata": {},
   "outputs": [
    {
     "name": "stdout",
     "output_type": "stream",
     "text": [
      "Epoch 1/50\n",
      "\u001b[1m9/9\u001b[0m \u001b[32m━━━━━━━━━━━━━━━━━━━━\u001b[0m\u001b[37m\u001b[0m \u001b[1m0s\u001b[0m 9s/step - accuracy: 0.2052 - loss: 2.4107\n",
      "Epoch 1: saving model to C:/Users/akshi/Downloads/EmDet/EmDet/working/ACCURACY0.3382352888584137.keras\n",
      "\u001b[1m9/9\u001b[0m \u001b[32m━━━━━━━━━━━━━━━━━━━━\u001b[0m\u001b[37m\u001b[0m \u001b[1m79s\u001b[0m 9s/step - accuracy: 0.2063 - loss: 2.4011 - val_accuracy: 0.3382 - val_loss: 1.9028\n",
      "Epoch 2/50\n",
      "\u001b[1m9/9\u001b[0m \u001b[32m━━━━━━━━━━━━━━━━━━━━\u001b[0m\u001b[37m\u001b[0m \u001b[1m0s\u001b[0m 12s/step - accuracy: 0.2714 - loss: 2.0181 \n",
      "Epoch 2: saving model to C:/Users/akshi/Downloads/EmDet/EmDet/working/ACCURACY0.29411765933036804.keras\n",
      "\u001b[1m9/9\u001b[0m \u001b[32m━━━━━━━━━━━━━━━━━━━━\u001b[0m\u001b[37m\u001b[0m \u001b[1m116s\u001b[0m 13s/step - accuracy: 0.2719 - loss: 2.0188 - val_accuracy: 0.2941 - val_loss: 1.8711\n",
      "Epoch 3/50\n",
      "\u001b[1m9/9\u001b[0m \u001b[32m━━━━━━━━━━━━━━━━━━━━\u001b[0m\u001b[37m\u001b[0m \u001b[1m0s\u001b[0m 10s/step - accuracy: 0.3651 - loss: 1.8249 \n",
      "Epoch 3: saving model to C:/Users/akshi/Downloads/EmDet/EmDet/working/ACCURACY0.23529411852359772.keras\n",
      "\u001b[1m9/9\u001b[0m \u001b[32m━━━━━━━━━━━━━━━━━━━━\u001b[0m\u001b[37m\u001b[0m \u001b[1m119s\u001b[0m 11s/step - accuracy: 0.3644 - loss: 1.8235 - val_accuracy: 0.2353 - val_loss: 1.9005\n",
      "Epoch 4/50\n",
      "\u001b[1m9/9\u001b[0m \u001b[32m━━━━━━━━━━━━━━━━━━━━\u001b[0m\u001b[37m\u001b[0m \u001b[1m0s\u001b[0m 10s/step - accuracy: 0.3473 - loss: 1.7498 \n",
      "Epoch 4: saving model to C:/Users/akshi/Downloads/EmDet/EmDet/working/ACCURACY0.23529411852359772.keras\n",
      "\u001b[1m9/9\u001b[0m \u001b[32m━━━━━━━━━━━━━━━━━━━━\u001b[0m\u001b[37m\u001b[0m \u001b[1m91s\u001b[0m 10s/step - accuracy: 0.3476 - loss: 1.7494 - val_accuracy: 0.2353 - val_loss: 1.9030\n",
      "Epoch 5/50\n",
      "\u001b[1m9/9\u001b[0m \u001b[32m━━━━━━━━━━━━━━━━━━━━\u001b[0m\u001b[37m\u001b[0m \u001b[1m0s\u001b[0m 9s/step - accuracy: 0.3191 - loss: 1.8510 \n",
      "Epoch 5: saving model to C:/Users/akshi/Downloads/EmDet/EmDet/working/ACCURACY0.23529411852359772.keras\n",
      "\u001b[1m9/9\u001b[0m \u001b[32m━━━━━━━━━━━━━━━━━━━━\u001b[0m\u001b[37m\u001b[0m \u001b[1m85s\u001b[0m 9s/step - accuracy: 0.3219 - loss: 1.8465 - val_accuracy: 0.2353 - val_loss: 1.8942\n",
      "Epoch 6/50\n",
      "\u001b[1m9/9\u001b[0m \u001b[32m━━━━━━━━━━━━━━━━━━━━\u001b[0m\u001b[37m\u001b[0m \u001b[1m0s\u001b[0m 10s/step - accuracy: 0.3642 - loss: 1.8051 \n",
      "Epoch 6: saving model to C:/Users/akshi/Downloads/EmDet/EmDet/working/ACCURACY0.2647058963775635.keras\n",
      "\u001b[1m9/9\u001b[0m \u001b[32m━━━━━━━━━━━━━━━━━━━━\u001b[0m\u001b[37m\u001b[0m \u001b[1m91s\u001b[0m 10s/step - accuracy: 0.3640 - loss: 1.8024 - val_accuracy: 0.2647 - val_loss: 1.8750\n",
      "Epoch 7/50\n",
      "\u001b[1m9/9\u001b[0m \u001b[32m━━━━━━━━━━━━━━━━━━━━\u001b[0m\u001b[37m\u001b[0m \u001b[1m0s\u001b[0m 9s/step - accuracy: 0.3618 - loss: 1.7360  \n",
      "Epoch 7: saving model to C:/Users/akshi/Downloads/EmDet/EmDet/working/ACCURACY0.29411765933036804.keras\n",
      "\u001b[1m9/9\u001b[0m \u001b[32m━━━━━━━━━━━━━━━━━━━━\u001b[0m\u001b[37m\u001b[0m \u001b[1m88s\u001b[0m 10s/step - accuracy: 0.3637 - loss: 1.7339 - val_accuracy: 0.2941 - val_loss: 1.8413\n",
      "Epoch 8/50\n",
      "\u001b[1m9/9\u001b[0m \u001b[32m━━━━━━━━━━━━━━━━━━━━\u001b[0m\u001b[37m\u001b[0m \u001b[1m0s\u001b[0m 10s/step - accuracy: 0.4010 - loss: 1.6678 \n",
      "Epoch 8: saving model to C:/Users/akshi/Downloads/EmDet/EmDet/working/ACCURACY0.30882352590560913.keras\n",
      "\u001b[1m9/9\u001b[0m \u001b[32m━━━━━━━━━━━━━━━━━━━━\u001b[0m\u001b[37m\u001b[0m \u001b[1m96s\u001b[0m 11s/step - accuracy: 0.3989 - loss: 1.6718 - val_accuracy: 0.3088 - val_loss: 1.8140\n",
      "Epoch 9/50\n",
      "\u001b[1m9/9\u001b[0m \u001b[32m━━━━━━━━━━━━━━━━━━━━\u001b[0m\u001b[37m\u001b[0m \u001b[1m0s\u001b[0m 9s/step - accuracy: 0.4258 - loss: 1.6885  \n",
      "Epoch 9: saving model to C:/Users/akshi/Downloads/EmDet/EmDet/working/ACCURACY0.29411765933036804.keras\n",
      "\u001b[1m9/9\u001b[0m \u001b[32m━━━━━━━━━━━━━━━━━━━━\u001b[0m\u001b[37m\u001b[0m \u001b[1m89s\u001b[0m 10s/step - accuracy: 0.4239 - loss: 1.6948 - val_accuracy: 0.2941 - val_loss: 1.8566\n",
      "Epoch 10/50\n",
      "\u001b[1m9/9\u001b[0m \u001b[32m━━━━━━━━━━━━━━━━━━━━\u001b[0m\u001b[37m\u001b[0m \u001b[1m0s\u001b[0m 9s/step - accuracy: 0.3814 - loss: 1.7653  \n",
      "Epoch 10: saving model to C:/Users/akshi/Downloads/EmDet/EmDet/working/ACCURACY0.2647058963775635.keras\n",
      "\u001b[1m9/9\u001b[0m \u001b[32m━━━━━━━━━━━━━━━━━━━━\u001b[0m\u001b[37m\u001b[0m \u001b[1m88s\u001b[0m 10s/step - accuracy: 0.3799 - loss: 1.7657 - val_accuracy: 0.2647 - val_loss: 1.9177\n",
      "Epoch 11/50\n",
      "\u001b[1m9/9\u001b[0m \u001b[32m━━━━━━━━━━━━━━━━━━━━\u001b[0m\u001b[37m\u001b[0m \u001b[1m0s\u001b[0m 9s/step - accuracy: 0.3983 - loss: 1.6946  \n",
      "Epoch 11: saving model to C:/Users/akshi/Downloads/EmDet/EmDet/working/ACCURACY0.25.keras\n",
      "\u001b[1m9/9\u001b[0m \u001b[32m━━━━━━━━━━━━━━━━━━━━\u001b[0m\u001b[37m\u001b[0m \u001b[1m89s\u001b[0m 10s/step - accuracy: 0.3936 - loss: 1.7027 - val_accuracy: 0.2500 - val_loss: 1.8829\n",
      "Epoch 12/50\n",
      "\u001b[1m9/9\u001b[0m \u001b[32m━━━━━━━━━━━━━━━━━━━━\u001b[0m\u001b[37m\u001b[0m \u001b[1m0s\u001b[0m 9s/step - accuracy: 0.3774 - loss: 1.6592  \n",
      "Epoch 12: saving model to C:/Users/akshi/Downloads/EmDet/EmDet/working/ACCURACY0.2647058963775635.keras\n",
      "\u001b[1m9/9\u001b[0m \u001b[32m━━━━━━━━━━━━━━━━━━━━\u001b[0m\u001b[37m\u001b[0m \u001b[1m90s\u001b[0m 10s/step - accuracy: 0.3770 - loss: 1.6619 - val_accuracy: 0.2647 - val_loss: 1.8571\n",
      "Epoch 13/50\n",
      "\u001b[1m9/9\u001b[0m \u001b[32m━━━━━━━━━━━━━━━━━━━━\u001b[0m\u001b[37m\u001b[0m \u001b[1m0s\u001b[0m 10s/step - accuracy: 0.3351 - loss: 1.7579 \n",
      "Epoch 13: saving model to C:/Users/akshi/Downloads/EmDet/EmDet/working/ACCURACY0.2647058963775635.keras\n",
      "\u001b[1m9/9\u001b[0m \u001b[32m━━━━━━━━━━━━━━━━━━━━\u001b[0m\u001b[37m\u001b[0m \u001b[1m92s\u001b[0m 10s/step - accuracy: 0.3377 - loss: 1.7545 - val_accuracy: 0.2647 - val_loss: 1.9014\n",
      "Epoch 14/50\n",
      "\u001b[1m9/9\u001b[0m \u001b[32m━━━━━━━━━━━━━━━━━━━━\u001b[0m\u001b[37m\u001b[0m \u001b[1m0s\u001b[0m 9s/step - accuracy: 0.4132 - loss: 1.6147  \n",
      "Epoch 14: saving model to C:/Users/akshi/Downloads/EmDet/EmDet/working/ACCURACY0.29411765933036804.keras\n",
      "\u001b[1m9/9\u001b[0m \u001b[32m━━━━━━━━━━━━━━━━━━━━\u001b[0m\u001b[37m\u001b[0m \u001b[1m89s\u001b[0m 10s/step - accuracy: 0.4129 - loss: 1.6141 - val_accuracy: 0.2941 - val_loss: 1.8344\n",
      "Epoch 15/50\n",
      "\u001b[1m9/9\u001b[0m \u001b[32m━━━━━━━━━━━━━━━━━━━━\u001b[0m\u001b[37m\u001b[0m \u001b[1m0s\u001b[0m 9s/step - accuracy: 0.3890 - loss: 1.6882 \n",
      "Epoch 15: saving model to C:/Users/akshi/Downloads/EmDet/EmDet/working/ACCURACY0.2647058963775635.keras\n",
      "\u001b[1m9/9\u001b[0m \u001b[32m━━━━━━━━━━━━━━━━━━━━\u001b[0m\u001b[37m\u001b[0m \u001b[1m87s\u001b[0m 10s/step - accuracy: 0.3889 - loss: 1.6861 - val_accuracy: 0.2647 - val_loss: 1.8065\n",
      "Epoch 16/50\n",
      "\u001b[1m9/9\u001b[0m \u001b[32m━━━━━━━━━━━━━━━━━━━━\u001b[0m\u001b[37m\u001b[0m \u001b[1m0s\u001b[0m 10s/step - accuracy: 0.3834 - loss: 1.6808 \n",
      "Epoch 16: saving model to C:/Users/akshi/Downloads/EmDet/EmDet/working/ACCURACY0.25.keras\n",
      "\u001b[1m9/9\u001b[0m \u001b[32m━━━━━━━━━━━━━━━━━━━━\u001b[0m\u001b[37m\u001b[0m \u001b[1m147s\u001b[0m 10s/step - accuracy: 0.3854 - loss: 1.6765 - val_accuracy: 0.2500 - val_loss: 1.8901\n",
      "Epoch 17/50\n",
      "\u001b[1m9/9\u001b[0m \u001b[32m━━━━━━━━━━━━━━━━━━━━\u001b[0m\u001b[37m\u001b[0m \u001b[1m0s\u001b[0m 9s/step - accuracy: 0.3717 - loss: 1.7296  \n",
      "Epoch 17: saving model to C:/Users/akshi/Downloads/EmDet/EmDet/working/ACCURACY0.25.keras\n",
      "\u001b[1m9/9\u001b[0m \u001b[32m━━━━━━━━━━━━━━━━━━━━\u001b[0m\u001b[37m\u001b[0m \u001b[1m138s\u001b[0m 10s/step - accuracy: 0.3737 - loss: 1.7252 - val_accuracy: 0.2500 - val_loss: 1.8386\n",
      "Epoch 18/50\n",
      "\u001b[1m9/9\u001b[0m \u001b[32m━━━━━━━━━━━━━━━━━━━━\u001b[0m\u001b[37m\u001b[0m \u001b[1m0s\u001b[0m 9s/step - accuracy: 0.4410 - loss: 1.6407  \n",
      "Epoch 18: saving model to C:/Users/akshi/Downloads/EmDet/EmDet/working/ACCURACY0.3235294222831726.keras\n",
      "\u001b[1m9/9\u001b[0m \u001b[32m━━━━━━━━━━━━━━━━━━━━\u001b[0m\u001b[37m\u001b[0m \u001b[1m89s\u001b[0m 10s/step - accuracy: 0.4409 - loss: 1.6384 - val_accuracy: 0.3235 - val_loss: 1.7836\n",
      "Epoch 19/50\n",
      "\u001b[1m9/9\u001b[0m \u001b[32m━━━━━━━━━━━━━━━━━━━━\u001b[0m\u001b[37m\u001b[0m \u001b[1m0s\u001b[0m 9s/step - accuracy: 0.4061 - loss: 1.6842 \n",
      "Epoch 19: saving model to C:/Users/akshi/Downloads/EmDet/EmDet/working/ACCURACY0.25.keras\n",
      "\u001b[1m9/9\u001b[0m \u001b[32m━━━━━━━━━━━━━━━━━━━━\u001b[0m\u001b[37m\u001b[0m \u001b[1m137s\u001b[0m 9s/step - accuracy: 0.4062 - loss: 1.6824 - val_accuracy: 0.2500 - val_loss: 1.8482\n",
      "Epoch 20/50\n",
      "\u001b[1m9/9\u001b[0m \u001b[32m━━━━━━━━━━━━━━━━━━━━\u001b[0m\u001b[37m\u001b[0m \u001b[1m0s\u001b[0m 9s/step - accuracy: 0.3848 - loss: 1.5831 \n",
      "Epoch 20: saving model to C:/Users/akshi/Downloads/EmDet/EmDet/working/ACCURACY0.27941176295280457.keras\n",
      "\u001b[1m9/9\u001b[0m \u001b[32m━━━━━━━━━━━━━━━━━━━━\u001b[0m\u001b[37m\u001b[0m \u001b[1m83s\u001b[0m 9s/step - accuracy: 0.3859 - loss: 1.5851 - val_accuracy: 0.2794 - val_loss: 1.7796\n",
      "Epoch 21/50\n",
      "\u001b[1m9/9\u001b[0m \u001b[32m━━━━━━━━━━━━━━━━━━━━\u001b[0m\u001b[37m\u001b[0m \u001b[1m0s\u001b[0m 9s/step - accuracy: 0.4070 - loss: 1.5848\n",
      "Epoch 21: saving model to C:/Users/akshi/Downloads/EmDet/EmDet/working/ACCURACY0.25.keras\n",
      "\u001b[1m9/9\u001b[0m \u001b[32m━━━━━━━━━━━━━━━━━━━━\u001b[0m\u001b[37m\u001b[0m \u001b[1m82s\u001b[0m 9s/step - accuracy: 0.4055 - loss: 1.5882 - val_accuracy: 0.2500 - val_loss: 1.8054\n",
      "Epoch 22/50\n",
      "\u001b[1m9/9\u001b[0m \u001b[32m━━━━━━━━━━━━━━━━━━━━\u001b[0m\u001b[37m\u001b[0m \u001b[1m0s\u001b[0m 9s/step - accuracy: 0.4523 - loss: 1.5330 \n",
      "Epoch 22: saving model to C:/Users/akshi/Downloads/EmDet/EmDet/working/ACCURACY0.25.keras\n",
      "\u001b[1m9/9\u001b[0m \u001b[32m━━━━━━━━━━━━━━━━━━━━\u001b[0m\u001b[37m\u001b[0m \u001b[1m86s\u001b[0m 10s/step - accuracy: 0.4507 - loss: 1.5349 - val_accuracy: 0.2500 - val_loss: 1.8662\n",
      "Epoch 23/50\n",
      "\u001b[1m9/9\u001b[0m \u001b[32m━━━━━━━━━━━━━━━━━━━━\u001b[0m\u001b[37m\u001b[0m \u001b[1m0s\u001b[0m 9s/step - accuracy: 0.4074 - loss: 1.6348  \n",
      "Epoch 23: saving model to C:/Users/akshi/Downloads/EmDet/EmDet/working/ACCURACY0.25.keras\n",
      "\u001b[1m9/9\u001b[0m \u001b[32m━━━━━━━━━━━━━━━━━━━━\u001b[0m\u001b[37m\u001b[0m \u001b[1m91s\u001b[0m 10s/step - accuracy: 0.4051 - loss: 1.6378 - val_accuracy: 0.2500 - val_loss: 1.8355\n",
      "Epoch 24/50\n",
      "\u001b[1m9/9\u001b[0m \u001b[32m━━━━━━━━━━━━━━━━━━━━\u001b[0m\u001b[37m\u001b[0m \u001b[1m0s\u001b[0m 10s/step - accuracy: 0.3960 - loss: 1.6381 \n",
      "Epoch 24: saving model to C:/Users/akshi/Downloads/EmDet/EmDet/working/ACCURACY0.3235294222831726.keras\n",
      "\u001b[1m9/9\u001b[0m \u001b[32m━━━━━━━━━━━━━━━━━━━━\u001b[0m\u001b[37m\u001b[0m \u001b[1m93s\u001b[0m 10s/step - accuracy: 0.3985 - loss: 1.6344 - val_accuracy: 0.3235 - val_loss: 1.7756\n",
      "Epoch 25/50\n",
      "\u001b[1m9/9\u001b[0m \u001b[32m━━━━━━━━━━━━━━━━━━━━\u001b[0m\u001b[37m\u001b[0m \u001b[1m0s\u001b[0m 10s/step - accuracy: 0.4366 - loss: 1.5374 \n",
      "Epoch 25: saving model to C:/Users/akshi/Downloads/EmDet/EmDet/working/ACCURACY0.29411765933036804.keras\n",
      "\u001b[1m9/9\u001b[0m \u001b[32m━━━━━━━━━━━━━━━━━━━━\u001b[0m\u001b[37m\u001b[0m \u001b[1m92s\u001b[0m 10s/step - accuracy: 0.4366 - loss: 1.5401 - val_accuracy: 0.2941 - val_loss: 1.7682\n",
      "Epoch 26/50\n",
      "\u001b[1m9/9\u001b[0m \u001b[32m━━━━━━━━━━━━━━━━━━━━\u001b[0m\u001b[37m\u001b[0m \u001b[1m0s\u001b[0m 9s/step - accuracy: 0.5003 - loss: 1.4897  \n",
      "Epoch 26: saving model to C:/Users/akshi/Downloads/EmDet/EmDet/working/ACCURACY0.29411765933036804.keras\n",
      "\u001b[1m9/9\u001b[0m \u001b[32m━━━━━━━━━━━━━━━━━━━━\u001b[0m\u001b[37m\u001b[0m \u001b[1m89s\u001b[0m 10s/step - accuracy: 0.4961 - loss: 1.4946 - val_accuracy: 0.2941 - val_loss: 1.7927\n",
      "Epoch 27/50\n",
      "\u001b[1m9/9\u001b[0m \u001b[32m━━━━━━━━━━━━━━━━━━━━\u001b[0m\u001b[37m\u001b[0m \u001b[1m0s\u001b[0m 10s/step - accuracy: 0.4864 - loss: 1.4694 \n",
      "Epoch 27: saving model to C:/Users/akshi/Downloads/EmDet/EmDet/working/ACCURACY0.2647058963775635.keras\n",
      "\u001b[1m9/9\u001b[0m \u001b[32m━━━━━━━━━━━━━━━━━━━━\u001b[0m\u001b[37m\u001b[0m \u001b[1m91s\u001b[0m 10s/step - accuracy: 0.4855 - loss: 1.4750 - val_accuracy: 0.2647 - val_loss: 1.8545\n",
      "Epoch 28/50\n",
      "\u001b[1m9/9\u001b[0m \u001b[32m━━━━━━━━━━━━━━━━━━━━\u001b[0m\u001b[37m\u001b[0m \u001b[1m0s\u001b[0m 10s/step - accuracy: 0.4323 - loss: 1.5017 \n",
      "Epoch 28: saving model to C:/Users/akshi/Downloads/EmDet/EmDet/working/ACCURACY0.27941176295280457.keras\n",
      "\u001b[1m9/9\u001b[0m \u001b[32m━━━━━━━━━━━━━━━━━━━━\u001b[0m\u001b[37m\u001b[0m \u001b[1m141s\u001b[0m 10s/step - accuracy: 0.4338 - loss: 1.5047 - val_accuracy: 0.2794 - val_loss: 1.8541\n",
      "Epoch 29/50\n",
      "\u001b[1m9/9\u001b[0m \u001b[32m━━━━━━━━━━━━━━━━━━━━\u001b[0m\u001b[37m\u001b[0m \u001b[1m0s\u001b[0m 9s/step - accuracy: 0.5128 - loss: 1.4773  \n",
      "Epoch 29: saving model to C:/Users/akshi/Downloads/EmDet/EmDet/working/ACCURACY0.29411765933036804.keras\n",
      "\u001b[1m9/9\u001b[0m \u001b[32m━━━━━━━━━━━━━━━━━━━━\u001b[0m\u001b[37m\u001b[0m \u001b[1m141s\u001b[0m 10s/step - accuracy: 0.5111 - loss: 1.4816 - val_accuracy: 0.2941 - val_loss: 1.8170\n",
      "Epoch 30/50\n",
      "\u001b[1m9/9\u001b[0m \u001b[32m━━━━━━━━━━━━━━━━━━━━\u001b[0m\u001b[37m\u001b[0m \u001b[1m0s\u001b[0m 9s/step - accuracy: 0.4826 - loss: 1.4052 \n",
      "Epoch 30: saving model to C:/Users/akshi/Downloads/EmDet/EmDet/working/ACCURACY0.2647058963775635.keras\n",
      "\u001b[1m9/9\u001b[0m \u001b[32m━━━━━━━━━━━━━━━━━━━━\u001b[0m\u001b[37m\u001b[0m \u001b[1m138s\u001b[0m 9s/step - accuracy: 0.4792 - loss: 1.4142 - val_accuracy: 0.2647 - val_loss: 1.8222\n",
      "Epoch 31/50\n",
      "\u001b[1m9/9\u001b[0m \u001b[32m━━━━━━━━━━━━━━━━━━━━\u001b[0m\u001b[37m\u001b[0m \u001b[1m0s\u001b[0m 10s/step - accuracy: 0.4545 - loss: 1.5624 \n",
      "Epoch 31: saving model to C:/Users/akshi/Downloads/EmDet/EmDet/working/ACCURACY0.27941176295280457.keras\n",
      "\u001b[1m9/9\u001b[0m \u001b[32m━━━━━━━━━━━━━━━━━━━━\u001b[0m\u001b[37m\u001b[0m \u001b[1m151s\u001b[0m 10s/step - accuracy: 0.4535 - loss: 1.5599 - val_accuracy: 0.2794 - val_loss: 1.8529\n",
      "Epoch 32/50\n",
      "\u001b[1m9/9\u001b[0m \u001b[32m━━━━━━━━━━━━━━━━━━━━\u001b[0m\u001b[37m\u001b[0m \u001b[1m0s\u001b[0m 9s/step - accuracy: 0.4905 - loss: 1.4672  \n",
      "Epoch 32: saving model to C:/Users/akshi/Downloads/EmDet/EmDet/working/ACCURACY0.3235294222831726.keras\n",
      "\u001b[1m9/9\u001b[0m \u001b[32m━━━━━━━━━━━━━━━━━━━━\u001b[0m\u001b[37m\u001b[0m \u001b[1m135s\u001b[0m 10s/step - accuracy: 0.4858 - loss: 1.4797 - val_accuracy: 0.3235 - val_loss: 1.7871\n",
      "Epoch 33/50\n",
      "\u001b[1m9/9\u001b[0m \u001b[32m━━━━━━━━━━━━━━━━━━━━\u001b[0m\u001b[37m\u001b[0m \u001b[1m0s\u001b[0m 10s/step - accuracy: 0.4870 - loss: 1.4202 \n",
      "Epoch 33: saving model to C:/Users/akshi/Downloads/EmDet/EmDet/working/ACCURACY0.2647058963775635.keras\n",
      "\u001b[1m9/9\u001b[0m \u001b[32m━━━━━━━━━━━━━━━━━━━━\u001b[0m\u001b[37m\u001b[0m \u001b[1m145s\u001b[0m 10s/step - accuracy: 0.4872 - loss: 1.4202 - val_accuracy: 0.2647 - val_loss: 1.8483\n",
      "Epoch 34/50\n",
      "\u001b[1m9/9\u001b[0m \u001b[32m━━━━━━━━━━━━━━━━━━━━\u001b[0m\u001b[37m\u001b[0m \u001b[1m0s\u001b[0m 10s/step - accuracy: 0.5144 - loss: 1.4080 \n",
      "Epoch 34: saving model to C:/Users/akshi/Downloads/EmDet/EmDet/working/ACCURACY0.29411765933036804.keras\n",
      "\u001b[1m9/9\u001b[0m \u001b[32m━━━━━━━━━━━━━━━━━━━━\u001b[0m\u001b[37m\u001b[0m \u001b[1m91s\u001b[0m 10s/step - accuracy: 0.5118 - loss: 1.4091 - val_accuracy: 0.2941 - val_loss: 1.8814\n",
      "Epoch 35/50\n",
      "\u001b[1m9/9\u001b[0m \u001b[32m━━━━━━━━━━━━━━━━━━━━\u001b[0m\u001b[37m\u001b[0m \u001b[1m0s\u001b[0m 9s/step - accuracy: 0.4728 - loss: 1.4367  \n",
      "Epoch 35: saving model to C:/Users/akshi/Downloads/EmDet/EmDet/working/ACCURACY0.29411765933036804.keras\n",
      "\u001b[1m9/9\u001b[0m \u001b[32m━━━━━━━━━━━━━━━━━━━━\u001b[0m\u001b[37m\u001b[0m \u001b[1m89s\u001b[0m 10s/step - accuracy: 0.4737 - loss: 1.4335 - val_accuracy: 0.2941 - val_loss: 1.8510\n",
      "Epoch 36/50\n",
      "\u001b[1m9/9\u001b[0m \u001b[32m━━━━━━━━━━━━━━━━━━━━\u001b[0m\u001b[37m\u001b[0m \u001b[1m0s\u001b[0m 10s/step - accuracy: 0.4601 - loss: 1.4851 \n",
      "Epoch 36: saving model to C:/Users/akshi/Downloads/EmDet/EmDet/working/ACCURACY0.27941176295280457.keras\n",
      "\u001b[1m9/9\u001b[0m \u001b[32m━━━━━━━━━━━━━━━━━━━━\u001b[0m\u001b[37m\u001b[0m \u001b[1m146s\u001b[0m 10s/step - accuracy: 0.4626 - loss: 1.4793 - val_accuracy: 0.2794 - val_loss: 1.8523\n",
      "Epoch 37/50\n",
      "\u001b[1m9/9\u001b[0m \u001b[32m━━━━━━━━━━━━━━━━━━━━\u001b[0m\u001b[37m\u001b[0m \u001b[1m0s\u001b[0m 9s/step - accuracy: 0.5339 - loss: 1.3314 \n",
      "Epoch 37: saving model to C:/Users/akshi/Downloads/EmDet/EmDet/working/ACCURACY0.3382352888584137.keras\n",
      "\u001b[1m9/9\u001b[0m \u001b[32m━━━━━━━━━━━━━━━━━━━━\u001b[0m\u001b[37m\u001b[0m \u001b[1m86s\u001b[0m 9s/step - accuracy: 0.5324 - loss: 1.3345 - val_accuracy: 0.3382 - val_loss: 1.8434\n",
      "Epoch 38/50\n",
      "\u001b[1m9/9\u001b[0m \u001b[32m━━━━━━━━━━━━━━━━━━━━\u001b[0m\u001b[37m\u001b[0m \u001b[1m0s\u001b[0m 9s/step - accuracy: 0.5085 - loss: 1.2973 \n",
      "Epoch 38: saving model to C:/Users/akshi/Downloads/EmDet/EmDet/working/ACCURACY0.36764705181121826.keras\n",
      "\u001b[1m9/9\u001b[0m \u001b[32m━━━━━━━━━━━━━━━━━━━━\u001b[0m\u001b[37m\u001b[0m \u001b[1m84s\u001b[0m 9s/step - accuracy: 0.5118 - loss: 1.2960 - val_accuracy: 0.3676 - val_loss: 1.8119\n",
      "Epoch 39/50\n",
      "\u001b[1m9/9\u001b[0m \u001b[32m━━━━━━━━━━━━━━━━━━━━\u001b[0m\u001b[37m\u001b[0m \u001b[1m0s\u001b[0m 9s/step - accuracy: 0.5361 - loss: 1.3382 \n",
      "Epoch 39: saving model to C:/Users/akshi/Downloads/EmDet/EmDet/working/ACCURACY0.36764705181121826.keras\n",
      "\u001b[1m9/9\u001b[0m \u001b[32m━━━━━━━━━━━━━━━━━━━━\u001b[0m\u001b[37m\u001b[0m \u001b[1m83s\u001b[0m 9s/step - accuracy: 0.5363 - loss: 1.3387 - val_accuracy: 0.3676 - val_loss: 1.8584\n",
      "Epoch 40/50\n",
      "\u001b[1m9/9\u001b[0m \u001b[32m━━━━━━━━━━━━━━━━━━━━\u001b[0m\u001b[37m\u001b[0m \u001b[1m0s\u001b[0m 9s/step - accuracy: 0.5583 - loss: 1.3004 \n",
      "Epoch 40: saving model to C:/Users/akshi/Downloads/EmDet/EmDet/working/ACCURACY0.3970588147640228.keras\n",
      "\u001b[1m9/9\u001b[0m \u001b[32m━━━━━━━━━━━━━━━━━━━━\u001b[0m\u001b[37m\u001b[0m \u001b[1m87s\u001b[0m 10s/step - accuracy: 0.5577 - loss: 1.3019 - val_accuracy: 0.3971 - val_loss: 1.8479\n",
      "Epoch 41/50\n",
      "\u001b[1m9/9\u001b[0m \u001b[32m━━━━━━━━━━━━━━━━━━━━\u001b[0m\u001b[37m\u001b[0m \u001b[1m0s\u001b[0m 9s/step - accuracy: 0.5040 - loss: 1.2981  \n",
      "Epoch 41: saving model to C:/Users/akshi/Downloads/EmDet/EmDet/working/ACCURACY0.36764705181121826.keras\n",
      "\u001b[1m9/9\u001b[0m \u001b[32m━━━━━━━━━━━━━━━━━━━━\u001b[0m\u001b[37m\u001b[0m \u001b[1m90s\u001b[0m 10s/step - accuracy: 0.5029 - loss: 1.3002 - val_accuracy: 0.3676 - val_loss: 1.8080\n",
      "Epoch 42/50\n",
      "\u001b[1m9/9\u001b[0m \u001b[32m━━━━━━━━━━━━━━━━━━━━\u001b[0m\u001b[37m\u001b[0m \u001b[1m0s\u001b[0m 9s/step - accuracy: 0.5350 - loss: 1.3052 \n",
      "Epoch 42: saving model to C:/Users/akshi/Downloads/EmDet/EmDet/working/ACCURACY0.38235294818878174.keras\n",
      "\u001b[1m9/9\u001b[0m \u001b[32m━━━━━━━━━━━━━━━━━━━━\u001b[0m\u001b[37m\u001b[0m \u001b[1m85s\u001b[0m 9s/step - accuracy: 0.5367 - loss: 1.3018 - val_accuracy: 0.3824 - val_loss: 1.8667\n",
      "Epoch 43/50\n",
      "\u001b[1m9/9\u001b[0m \u001b[32m━━━━━━━━━━━━━━━━━━━━\u001b[0m\u001b[37m\u001b[0m \u001b[1m0s\u001b[0m 9s/step - accuracy: 0.5783 - loss: 1.1257 \n",
      "Epoch 43: saving model to C:/Users/akshi/Downloads/EmDet/EmDet/working/ACCURACY0.3970588147640228.keras\n",
      "\u001b[1m9/9\u001b[0m \u001b[32m━━━━━━━━━━━━━━━━━━━━\u001b[0m\u001b[37m\u001b[0m \u001b[1m84s\u001b[0m 9s/step - accuracy: 0.5769 - loss: 1.1290 - val_accuracy: 0.3971 - val_loss: 1.8745\n",
      "Epoch 44/50\n",
      "\u001b[1m9/9\u001b[0m \u001b[32m━━━━━━━━━━━━━━━━━━━━\u001b[0m\u001b[37m\u001b[0m \u001b[1m0s\u001b[0m 9s/step - accuracy: 0.5584 - loss: 1.2699 \n",
      "Epoch 44: saving model to C:/Users/akshi/Downloads/EmDet/EmDet/working/ACCURACY0.3970588147640228.keras\n",
      "\u001b[1m9/9\u001b[0m \u001b[32m━━━━━━━━━━━━━━━━━━━━\u001b[0m\u001b[37m\u001b[0m \u001b[1m84s\u001b[0m 9s/step - accuracy: 0.5596 - loss: 1.2738 - val_accuracy: 0.3971 - val_loss: 1.7877\n",
      "Epoch 45/50\n",
      "\u001b[1m9/9\u001b[0m \u001b[32m━━━━━━━━━━━━━━━━━━━━\u001b[0m\u001b[37m\u001b[0m \u001b[1m0s\u001b[0m 9s/step - accuracy: 0.5654 - loss: 1.1586 \n",
      "Epoch 45: saving model to C:/Users/akshi/Downloads/EmDet/EmDet/working/ACCURACY0.36764705181121826.keras\n",
      "\u001b[1m9/9\u001b[0m \u001b[32m━━━━━━━━━━━━━━━━━━━━\u001b[0m\u001b[37m\u001b[0m \u001b[1m84s\u001b[0m 9s/step - accuracy: 0.5641 - loss: 1.1630 - val_accuracy: 0.3676 - val_loss: 1.8677\n",
      "Epoch 46/50\n",
      "\u001b[1m9/9\u001b[0m \u001b[32m━━━━━━━━━━━━━━━━━━━━\u001b[0m\u001b[37m\u001b[0m \u001b[1m0s\u001b[0m 9s/step - accuracy: 0.5768 - loss: 1.2245\n",
      "Epoch 46: saving model to C:/Users/akshi/Downloads/EmDet/EmDet/working/ACCURACY0.4264705777168274.keras\n",
      "\u001b[1m9/9\u001b[0m \u001b[32m━━━━━━━━━━━━━━━━━━━━\u001b[0m\u001b[37m\u001b[0m \u001b[1m83s\u001b[0m 9s/step - accuracy: 0.5721 - loss: 1.2286 - val_accuracy: 0.4265 - val_loss: 1.8270\n",
      "Epoch 47/50\n",
      "\u001b[1m9/9\u001b[0m \u001b[32m━━━━━━━━━━━━━━━━━━━━\u001b[0m\u001b[37m\u001b[0m \u001b[1m0s\u001b[0m 9s/step - accuracy: 0.5650 - loss: 1.1655\n",
      "Epoch 47: saving model to C:/Users/akshi/Downloads/EmDet/EmDet/working/ACCURACY0.3970588147640228.keras\n",
      "\u001b[1m9/9\u001b[0m \u001b[32m━━━━━━━━━━━━━━━━━━━━\u001b[0m\u001b[37m\u001b[0m \u001b[1m83s\u001b[0m 9s/step - accuracy: 0.5637 - loss: 1.1652 - val_accuracy: 0.3971 - val_loss: 1.8063\n",
      "Epoch 48/50\n",
      "\u001b[1m9/9\u001b[0m \u001b[32m━━━━━━━━━━━━━━━━━━━━\u001b[0m\u001b[37m\u001b[0m \u001b[1m0s\u001b[0m 9s/step - accuracy: 0.5554 - loss: 1.1829 \n",
      "Epoch 48: saving model to C:/Users/akshi/Downloads/EmDet/EmDet/working/ACCURACY0.3970588147640228.keras\n",
      "\u001b[1m9/9\u001b[0m \u001b[32m━━━━━━━━━━━━━━━━━━━━\u001b[0m\u001b[37m\u001b[0m \u001b[1m83s\u001b[0m 9s/step - accuracy: 0.5551 - loss: 1.1812 - val_accuracy: 0.3971 - val_loss: 1.9224\n",
      "Epoch 49/50\n",
      "\u001b[1m9/9\u001b[0m \u001b[32m━━━━━━━━━━━━━━━━━━━━\u001b[0m\u001b[37m\u001b[0m \u001b[1m0s\u001b[0m 9s/step - accuracy: 0.5425 - loss: 1.1850\n",
      "Epoch 49: saving model to C:/Users/akshi/Downloads/EmDet/EmDet/working/ACCURACY0.4264705777168274.keras\n",
      "\u001b[1m9/9\u001b[0m \u001b[32m━━━━━━━━━━━━━━━━━━━━\u001b[0m\u001b[37m\u001b[0m \u001b[1m82s\u001b[0m 9s/step - accuracy: 0.5439 - loss: 1.1862 - val_accuracy: 0.4265 - val_loss: 1.9408\n",
      "Epoch 50/50\n",
      "\u001b[1m9/9\u001b[0m \u001b[32m━━━━━━━━━━━━━━━━━━━━\u001b[0m\u001b[37m\u001b[0m \u001b[1m0s\u001b[0m 9s/step - accuracy: 0.5954 - loss: 1.1811\n",
      "Epoch 50: saving model to C:/Users/akshi/Downloads/EmDet/EmDet/working/ACCURACY0.3970588147640228.keras\n",
      "\u001b[1m9/9\u001b[0m \u001b[32m━━━━━━━━━━━━━━━━━━━━\u001b[0m\u001b[37m\u001b[0m \u001b[1m82s\u001b[0m 9s/step - accuracy: 0.5922 - loss: 1.1867 - val_accuracy: 0.3971 - val_loss: 1.7744\n"
     ]
    }
   ],
   "source": [
    "history = model_simple.fit(\n",
    "    X_train, y_train,\n",
    "    epochs = 50,\n",
    "    callbacks = [checkpoint],\n",
    "    validation_data = (X_val, y_val)\n",
    ")\n",
    "model_attempt += 1"
   ]
  },
  {
   "cell_type": "code",
   "execution_count": 74,
   "metadata": {},
   "outputs": [
    {
     "name": "stdout",
     "output_type": "stream",
     "text": [
      "Epoch 2/10\n",
      "\u001b[1m9/9\u001b[0m \u001b[32m━━━━━━━━━━━━━━━━━━━━\u001b[0m\u001b[37m\u001b[0m \u001b[1m84s\u001b[0m 9s/step - accuracy: 0.7557 - loss: 0.6911 - val_accuracy: 0.4265 - val_loss: 3.8371\n",
      "Epoch 3/10\n",
      "\u001b[1m9/9\u001b[0m \u001b[32m━━━━━━━━━━━━━━━━━━━━\u001b[0m\u001b[37m\u001b[0m \u001b[1m81s\u001b[0m 9s/step - accuracy: 0.7805 - loss: 0.5829 - val_accuracy: 0.4706 - val_loss: 3.1673\n",
      "Epoch 4/10\n",
      "\u001b[1m9/9\u001b[0m \u001b[32m━━━━━━━━━━━━━━━━━━━━\u001b[0m\u001b[37m\u001b[0m \u001b[1m83s\u001b[0m 9s/step - accuracy: 0.8143 - loss: 0.5044 - val_accuracy: 0.5000 - val_loss: 3.4306\n",
      "Epoch 5/10\n",
      "\u001b[1m9/9\u001b[0m \u001b[32m━━━━━━━━━━━━━━━━━━━━\u001b[0m\u001b[37m\u001b[0m \u001b[1m77s\u001b[0m 8s/step - accuracy: 0.8162 - loss: 0.4993 - val_accuracy: 0.4559 - val_loss: 3.5543\n",
      "Epoch 6/10\n",
      "\u001b[1m9/9\u001b[0m \u001b[32m━━━━━━━━━━━━━━━━━━━━\u001b[0m\u001b[37m\u001b[0m \u001b[1m80s\u001b[0m 9s/step - accuracy: 0.7935 - loss: 0.4814 - val_accuracy: 0.5147 - val_loss: 3.7887\n",
      "Epoch 7/10\n",
      "\u001b[1m9/9\u001b[0m \u001b[32m━━━━━━━━━━━━━━━━━━━━\u001b[0m\u001b[37m\u001b[0m \u001b[1m79s\u001b[0m 9s/step - accuracy: 0.8311 - loss: 0.4329 - val_accuracy: 0.4853 - val_loss: 4.3552\n",
      "Epoch 8/10\n",
      "\u001b[1m9/9\u001b[0m \u001b[32m━━━━━━━━━━━━━━━━━━━━\u001b[0m\u001b[37m\u001b[0m \u001b[1m79s\u001b[0m 9s/step - accuracy: 0.8466 - loss: 0.3749 - val_accuracy: 0.4706 - val_loss: 4.7286\n",
      "Epoch 9/10\n",
      "\u001b[1m9/9\u001b[0m \u001b[32m━━━━━━━━━━━━━━━━━━━━\u001b[0m\u001b[37m\u001b[0m \u001b[1m81s\u001b[0m 9s/step - accuracy: 0.7930 - loss: 0.6198 - val_accuracy: 0.4412 - val_loss: 5.9498\n",
      "Epoch 10/10\n",
      "\u001b[1m9/9\u001b[0m \u001b[32m━━━━━━━━━━━━━━━━━━━━\u001b[0m\u001b[37m\u001b[0m \u001b[1m94s\u001b[0m 10s/step - accuracy: 0.7668 - loss: 0.5028 - val_accuracy: 0.5147 - val_loss: 3.5261\n"
     ]
    }
   ],
   "source": [
    "from tensorflow.keras.models import load_model\n",
    "from tensorflow.keras.callbacks import ModelCheckpoint\n",
    "\n",
    "# Load the saved .keras model\n",
    "model = load_model('\"C:/Users/akshi/Downloads/ACCURACY0.37472161650657654.keras\"')\n",
    "\n",
    "# Compile the model if needed (uncomment if you need to change optimizer/loss)\n",
    "model.compile(optimizer='adam', loss='categorical_crossentropy', metrics=['accuracy'])\n",
    "\n",
    "# Define ModelCheckpoint to save the model during training\n",
    "checkpoint = ModelCheckpoint(\n",
    "    'C:/Users/akshi/Downloads/EmDet/EmDet/working/BestModel.keras',  # Change path as needed\n",
    "    monitor='val_accuracy',  # Or any other metric you want to monitor\n",
    "    save_best_only=True,\n",
    "    mode='max'\n",
    ")\n",
    "\n",
    "# Continue training\n",
    "history = model.fit(\n",
    "    X_train, y_train,\n",
    "    epochs=10,  # Total epochs to train\n",
    "    callbacks=[checkpoint],\n",
    "    validation_data=(X_val, y_val),\n",
    "    initial_epoch=1  # Add this if you want to specify where to continue from\n",
    ")\n",
    "\n",
    "# Save the updated model if desired\n",
    "#model.save('C:/Users/akshi/Downloads/EmDet/EmDet/working/Updated1Model.keras')\n"
   ]
  },
  {
   "cell_type": "code",
   "execution_count": 75,
   "metadata": {},
   "outputs": [
    {
     "data": {
      "text/plain": [
       "<matplotlib.legend.Legend at 0x190abb1cf90>"
      ]
     },
     "execution_count": 75,
     "metadata": {},
     "output_type": "execute_result"
    },
    {
     "data": {
      "image/png": "[encoded data removed]",
      "text/plain": [
       "<Figure size 640x480 with 1 Axes>"
      ]
     },
     "metadata": {},
     "output_type": "display_data"
    }
   ],
   "source": [
    "\n",
    "plt.plot(history.history[\"accuracy\"], label = \"Accuracy\")\n",
    "plt.plot(history.history[\"val_accuracy\"], label = \"Val Accuracy\")\n",
    "plt.legend()"
   ]
  },
  {
   "cell_type": "code",
   "execution_count": 76,
   "metadata": {},
   "outputs": [
    {
     "data": {
      "text/plain": [
       "<matplotlib.legend.Legend at 0x190abb74450>"
      ]
     },
     "execution_count": 76,
     "metadata": {},
     "output_type": "execute_result"
    },
    {
     "data": {
      "image/png": "[encoded data removed]",
      "text/plain": [
       "<Figure size 640x480 with 1 Axes>"
      ]
     },
     "metadata": {},
     "output_type": "display_data"
    }
   ],
   "source": [
    "plt.plot(history.history[\"loss\"], label = \"Loss\")\n",
    "plt.plot(history.history[\"val_loss\"], label = \"Val Loss\")\n",
    "plt.legend()"
   ]
  },
  {
   "cell_type": "code",
   "execution_count": 69,
   "metadata": {},
   "outputs": [
    {
     "name": "stdout",
     "output_type": "stream",
     "text": [
      "Num GPUs Available:  0\n"
     ]
    }
   ],
   "source": []
  },
  {
   "cell_type": "code",
   "execution_count": null,
   "metadata": {},
   "outputs": [],
   "source": []
  }
 ],
 "metadata": {
  "kernelspec": {
   "display_name": "pytorch",
   "language": "python",
   "name": "python3"
  },
  "language_info": {
   "codemirror_mode": {
    "name": "ipython",
    "version": 3
   },
   "file_extension": ".py",
   "mimetype": "text/x-python",
   "name": "python",
   "nbconvert_exporter": "python",
   "pygments_lexer": "ipython3",
   "version": "3.11.9"
  },
  "orig_nbformat": 4
 },
 "nbformat": 4,
 "nbformat_minor": 2
}
